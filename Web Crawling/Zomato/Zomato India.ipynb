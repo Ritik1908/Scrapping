{
 "cells": [
  {
   "cell_type": "code",
   "execution_count": 1,
   "metadata": {},
   "outputs": [],
   "source": [
    "import requests, re\n",
    "import numpy as np\n",
    "from bs4 import BeautifulSoup\n",
    "import pandas\n",
    "import lxml as lxml"
   ]
  },
  {
   "cell_type": "code",
   "execution_count": 3,
   "metadata": {},
   "outputs": [],
   "source": [
    "url='https://www.zomato.com/india'\n",
    "headers = {'User-Agent': 'Mozilla/5.0 (Windows NT 6.3; Win64; x64) AppleWebKit/537.36 (KHTML, like Gecko) Chrome/80.0.3987.162 Safari/537.36'}\n",
    "webpage=requests.get(url, headers=headers).text\n",
    "soup=BeautifulSoup(webpage, \"html5lib\")"
   ]
  },
  {
   "cell_type": "code",
   "execution_count": 4,
   "metadata": {},
   "outputs": [],
   "source": [
    "statesList = soup.find(\"div\", {\"class\": \"states-container\"})"
   ]
  },
  {
   "cell_type": "code",
   "execution_count": null,
   "metadata": {},
   "outputs": [],
   "source": [
    "states = []\n",
    "pages = []\n",
    "for i in statesList.findAll(\"a\"):\n",
    "    state = i['href'].split(\"/\")[-1]\n",
    "    states.append(state)\n",
    "    \n",
    "    url = 'https://www.zomato.com/'+state+'/restaurants'\n",
    "    webpage=requests.get(url, headers=headers).text\n",
    "    soup=BeautifulSoup(webpage, \"html5lib\")\n",
    "    \n",
    "    \n",
    "    pageNumber = soup.find(\"div\", {\"class\": \"pagination-number\"}).text.strip().split(\" \")[-1]\n",
    "    pageNumber = int(pageNumber)\n",
    "    \n",
    "    \n",
    "    pages.append(pageNumber)"
   ]
  },
  {
   "cell_type": "code",
   "execution_count": 19,
   "metadata": {},
   "outputs": [
    {
     "data": {
      "text/plain": [
       "[894,\n",
       " 894,\n",
       " 894,\n",
       " 894,\n",
       " 894,\n",
       " 894,\n",
       " 894,\n",
       " 894,\n",
       " 894,\n",
       " 894,\n",
       " 894,\n",
       " 894,\n",
       " 894,\n",
       " 894,\n",
       " 894,\n",
       " 894,\n",
       " 894,\n",
       " 894,\n",
       " 894,\n",
       " 894,\n",
       " 894,\n",
       " 894,\n",
       " 894,\n",
       " 894,\n",
       " 894,\n",
       " 894,\n",
       " 894,\n",
       " 894,\n",
       " 894,\n",
       " 894,\n",
       " 894,\n",
       " 894,\n",
       " 894,\n",
       " 894,\n",
       " 894,\n",
       " 894,\n",
       " 894,\n",
       " 894,\n",
       " 894,\n",
       " 894,\n",
       " 894,\n",
       " 894,\n",
       " 894,\n",
       " 894,\n",
       " 894,\n",
       " 894,\n",
       " 894,\n",
       " 894,\n",
       " 894,\n",
       " 894,\n",
       " 894,\n",
       " 894,\n",
       " 894,\n",
       " 894,\n",
       " 894,\n",
       " 894,\n",
       " 894,\n",
       " 894,\n",
       " 894,\n",
       " 894,\n",
       " 894,\n",
       " 894,\n",
       " 894,\n",
       " 894,\n",
       " 894,\n",
       " 894,\n",
       " 894,\n",
       " 894,\n",
       " 894,\n",
       " 894,\n",
       " 894,\n",
       " 894,\n",
       " 894,\n",
       " 894,\n",
       " 894,\n",
       " 894,\n",
       " 894,\n",
       " 894,\n",
       " 894,\n",
       " 894,\n",
       " 894,\n",
       " 894,\n",
       " 894,\n",
       " 894]"
      ]
     },
     "execution_count": 19,
     "metadata": {},
     "output_type": "execute_result"
    }
   ],
   "source": [
    "pages"
   ]
  },
  {
   "cell_type": "code",
   "execution_count": 16,
   "metadata": {},
   "outputs": [],
   "source": [
    "cusine = []\n",
    "name = []\n",
    "voteCount = []\n",
    "rating = []\n",
    "address = []\n",
    "cusine = []\n",
    "cost = []\n",
    "timing = []"
   ]
  },
  {
   "cell_type": "code",
   "execution_count": 17,
   "metadata": {},
   "outputs": [
    {
     "ename": "IndentationError",
     "evalue": "expected an indented block (<ipython-input-17-cbb09df87075>, line 3)",
     "output_type": "error",
     "traceback": [
      "\u001b[0;36m  File \u001b[0;32m\"<ipython-input-17-cbb09df87075>\"\u001b[0;36m, line \u001b[0;32m3\u001b[0m\n\u001b[0;31m    print(\"Page = \", (i+1))\u001b[0m\n\u001b[0m        ^\u001b[0m\n\u001b[0;31mIndentationError\u001b[0m\u001b[0;31m:\u001b[0m expected an indented block\n"
     ]
    }
   ],
   "source": [
    "for i,j in zip(states, pages):\n",
    "        for i in range(j):\n",
    "        print(\"Page = \", (i+1))\n",
    "        url='https://www.zomato.com/'+i'/restaurants?page='+str(i+1)\n",
    "        headers = {'User-Agent': 'Mozilla/5.0 (Windows NT 6.3; Win64; x64) AppleWebKit/537.36 (KHTML, like Gecko) Chrome/80.0.3987.162 Safari/537.36'}\n",
    "        webpage=requests.get(url, headers=headers).text\n",
    "        soup=BeautifulSoup(webpage, \"html5lib\")\n",
    "\n",
    "        cards = soup.findAll(\"div\", {\"class\": \"search-snippet-card\"})\n",
    "\n",
    "        for i in cards:\n",
    "            cusineTxt = \"\"\n",
    "            nameTxt = \"\"\n",
    "            voteCountTxt = \"\"\n",
    "            ratingTxt = \"\"\n",
    "            addressTxt = \"\"\n",
    "            cusineTxt = \"\"\n",
    "            costTxt = \"\"\n",
    "            timingTxt = \"\"\n",
    "            try:\n",
    "                cusineTxt = i.find(\"div\", {\"class\": \"res-snippet-small-establishment\"}).text.strip()\n",
    "            except:\n",
    "                cusineTxt = np.nan\n",
    "            try:\n",
    "                nameTxt = i.find(\"a\", {\"class\": \"result-title\"}).text.strip()\n",
    "            except:\n",
    "                nameTxt = np.nan\n",
    "            try:\n",
    "                ratingTxt = i.find(\"div\", {\"class\": \"res-rating-nf\"}).text.strip()\n",
    "            except:\n",
    "                ratingTxt = np.nan\n",
    "            try:\n",
    "                voteCountTxt = i.find(\"span\", {\"class\": \"grey-text\"}).text.strip()\n",
    "            except:\n",
    "                voteCountTxt = np.nan\n",
    "            try:\n",
    "                addressTxt = i.find(\"div\", {\"class\": \"search-result-address\"}).text.strip()\n",
    "            except:\n",
    "                addressTxt = np.nan\n",
    "            try:\n",
    "                cusineTxt = i.find(\"span\", {\"class\": \"nowrap\"}).text.strip()\n",
    "            except:\n",
    "                cusineTxt = np.nan\n",
    "            try:\n",
    "                tmpTxt = i.find(\"div\", {\"class\": \"res-cost\"})\n",
    "                costTxt = tmpTxt.findAll(\"span\")[1].text.strip()\n",
    "            except:\n",
    "                costTxt = np.nan\n",
    "            try:\n",
    "                tmpTxt = i.find(\"div\", {\"class\": \"res-timing\"})\n",
    "                timingTxt = tmpTxt.find(\"div\").text.strip()\n",
    "            except:\n",
    "                timingTxt = np.nan\n",
    "            cusine.append(cusineTxt)\n",
    "            name.append(nameTxt)\n",
    "            voteCount.append(voteCountTxt)\n",
    "            rating.append(ratingTxt)\n",
    "            address.append(addressTxt)\n",
    "            cusine.append(cusineTxt)\n",
    "            cost.append(costTxt)\n",
    "            timing.append(timingTxt)"
   ]
  },
  {
   "cell_type": "code",
   "execution_count": null,
   "metadata": {},
   "outputs": [],
   "source": []
  }
 ],
 "metadata": {
  "kernelspec": {
   "display_name": "Python 3",
   "language": "python",
   "name": "python3"
  },
  "language_info": {
   "codemirror_mode": {
    "name": "ipython",
    "version": 3
   },
   "file_extension": ".py",
   "mimetype": "text/x-python",
   "name": "python",
   "nbconvert_exporter": "python",
   "pygments_lexer": "ipython3",
   "version": "3.6.9"
  }
 },
 "nbformat": 4,
 "nbformat_minor": 2
}
