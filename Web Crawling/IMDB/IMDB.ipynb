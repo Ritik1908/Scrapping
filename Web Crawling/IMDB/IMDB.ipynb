{
 "cells": [
  {
   "cell_type": "code",
   "execution_count": 28,
   "metadata": {},
   "outputs": [],
   "source": [
    "import requests, re\n",
    "from bs4 import BeautifulSoup\n",
    "import pandas"
   ]
  },
  {
   "cell_type": "code",
   "execution_count": 29,
   "metadata": {},
   "outputs": [],
   "source": [
    "name = []\n",
    "year = []\n",
    "runtime = []\n",
    "genre = []\n",
    "imdb_rating = []\n",
    "description = []\n",
    "directors = []\n",
    "cast = []"
   ]
  },
  {
   "cell_type": "code",
   "execution_count": 30,
   "metadata": {},
   "outputs": [],
   "source": [
    "def scrapData(u) :\n",
    "    content = requests.get(u)\n",
    "    bs = BeautifulSoup(content.text, \"html.parser\")\n",
    "\n",
    "    lister = bs.find(\"div\", {\"class\":\"lister-list\"})\n",
    "    for item in lister.findAll(\"div\", {\"class\":\"lister-item-content\"}) :\n",
    "        name.append(item.find(\"h3\", {\"class\":\"lister-item-header\"}).find(\"a\").get_text())\n",
    "        year.append((item.find(\"h3\", {\"class\":\"lister-item-header\"}).find(\"span\",{\"class\":\"lister-item-year\"}).text)[1:5])\n",
    "        runtime.append((item.find(\"span\", {\"class\":\"runtime\"}).text).strip()[0:3])\n",
    "        genre.append((item.find(\"span\", {\"class\":\"genre\"}).text).strip())\n",
    "        imdb_rating.append(item.find(\"div\", {\"class\":\"ratings-imdb-rating\"}).find(\"strong\").text)\n",
    "        description.append(item.findAll(\"p\",{\"class\":\"text-muted\"})[1].text.strip())\n",
    "        st = item.findAll(\"p\")[2]\n",
    "        check=0\n",
    "        actor=\"\"\n",
    "        director=\"\"\n",
    "        for tag in st :\n",
    "            if check == 0 and tag.name == \"a\":\n",
    "                director=director+tag.get_text()+\", \"\n",
    "            if check == 1 and tag.name == \"a\":\n",
    "                actor=actor+tag.get_text()+\", \"\n",
    "            if tag.name == \"span\" :\n",
    "                check = 1\n",
    "        directors.append(director)\n",
    "        cast.append(actor)"
   ]
  },
  {
   "cell_type": "code",
   "execution_count": 24,
   "metadata": {},
   "outputs": [],
   "source": [
    "scrapData(\"https://www.imdb.com/search/title?groups=top_250&sort=user_rating,desc&ref_=adv_prv\")\n",
    "scrapData(\"https://www.imdb.com/search/title?groups=top_250&sort=user_rating,desc&start=51&ref_=adv_nxt\")\n",
    "scrapData(\"https://www.imdb.com/search/title?groups=top_250&sort=user_rating,desc&start=101&ref_=adv_nxt\")\n",
    "scrapData(\"https://www.imdb.com/search/title?groups=top_250&sort=user_rating,desc&start=151&ref_=adv_nxt\")\n",
    "scrapData(\"https://www.imdb.com/search/title?groups=top_250&sort=user_rating,desc&start=201&ref_=adv_nxt\")"
   ]
  },
  {
   "cell_type": "code",
   "execution_count": 25,
   "metadata": {},
   "outputs": [],
   "source": [
    "data=pandas.DataFrame({\"Name\":name, \"Genre\":genre, \"Year\":year, \"Directors\": directors, \"Cast\": cast, \"Runtime\":runtime, \"Description\":description})"
   ]
  },
  {
   "cell_type": "code",
   "execution_count": 26,
   "metadata": {},
   "outputs": [
    {
     "data": {
      "text/html": [
       "<div>\n",
       "<style scoped>\n",
       "    .dataframe tbody tr th:only-of-type {\n",
       "        vertical-align: middle;\n",
       "    }\n",
       "\n",
       "    .dataframe tbody tr th {\n",
       "        vertical-align: top;\n",
       "    }\n",
       "\n",
       "    .dataframe thead th {\n",
       "        text-align: right;\n",
       "    }\n",
       "</style>\n",
       "<table border=\"1\" class=\"dataframe\">\n",
       "  <thead>\n",
       "    <tr style=\"text-align: right;\">\n",
       "      <th></th>\n",
       "      <th>Name</th>\n",
       "      <th>Genre</th>\n",
       "      <th>Year</th>\n",
       "      <th>Directors</th>\n",
       "      <th>Cast</th>\n",
       "      <th>Runtime</th>\n",
       "      <th>Description</th>\n",
       "    </tr>\n",
       "  </thead>\n",
       "  <tbody>\n",
       "    <tr>\n",
       "      <th>0</th>\n",
       "      <td>The Shawshank Redemption</td>\n",
       "      <td>Drama</td>\n",
       "      <td>1994</td>\n",
       "      <td>Frank Darabont,</td>\n",
       "      <td>Tim Robbins, Morgan Freeman, Bob Gunton, Willi...</td>\n",
       "      <td>142</td>\n",
       "      <td>Two imprisoned men bond over a number of years...</td>\n",
       "    </tr>\n",
       "    <tr>\n",
       "      <th>1</th>\n",
       "      <td>The Godfather</td>\n",
       "      <td>Crime, Drama</td>\n",
       "      <td>1972</td>\n",
       "      <td>Francis Ford Coppola,</td>\n",
       "      <td>Marlon Brando, Al Pacino, James Caan, Diane Ke...</td>\n",
       "      <td>175</td>\n",
       "      <td>The aging patriarch of an organized crime dyna...</td>\n",
       "    </tr>\n",
       "    <tr>\n",
       "      <th>2</th>\n",
       "      <td>The Dark Knight</td>\n",
       "      <td>Action, Crime, Drama</td>\n",
       "      <td>2008</td>\n",
       "      <td>Christopher Nolan,</td>\n",
       "      <td>Christian Bale, Heath Ledger, Aaron Eckhart, M...</td>\n",
       "      <td>152</td>\n",
       "      <td>When the menace known as the Joker wreaks havo...</td>\n",
       "    </tr>\n",
       "    <tr>\n",
       "      <th>3</th>\n",
       "      <td>The Godfather: Part II</td>\n",
       "      <td>Crime, Drama</td>\n",
       "      <td>1974</td>\n",
       "      <td>Francis Ford Coppola,</td>\n",
       "      <td>Al Pacino, Robert De Niro, Robert Duvall, Dian...</td>\n",
       "      <td>202</td>\n",
       "      <td>The early life and career of Vito Corleone in ...</td>\n",
       "    </tr>\n",
       "    <tr>\n",
       "      <th>4</th>\n",
       "      <td>The Lord of the Rings: The Return of the King</td>\n",
       "      <td>Adventure, Drama, Fantasy</td>\n",
       "      <td>2003</td>\n",
       "      <td>Peter Jackson,</td>\n",
       "      <td>Elijah Wood, Viggo Mortensen, Ian McKellen, Or...</td>\n",
       "      <td>201</td>\n",
       "      <td>Gandalf and Aragorn lead the World of Men agai...</td>\n",
       "    </tr>\n",
       "  </tbody>\n",
       "</table>\n",
       "</div>"
      ],
      "text/plain": [
       "                                            Name                      Genre  \\\n",
       "0                       The Shawshank Redemption                      Drama   \n",
       "1                                  The Godfather               Crime, Drama   \n",
       "2                                The Dark Knight       Action, Crime, Drama   \n",
       "3                         The Godfather: Part II               Crime, Drama   \n",
       "4  The Lord of the Rings: The Return of the King  Adventure, Drama, Fantasy   \n",
       "\n",
       "   Year               Directors  \\\n",
       "0  1994        Frank Darabont,    \n",
       "1  1972  Francis Ford Coppola,    \n",
       "2  2008     Christopher Nolan,    \n",
       "3  1974  Francis Ford Coppola,    \n",
       "4  2003         Peter Jackson,    \n",
       "\n",
       "                                                Cast Runtime  \\\n",
       "0  Tim Robbins, Morgan Freeman, Bob Gunton, Willi...     142   \n",
       "1  Marlon Brando, Al Pacino, James Caan, Diane Ke...     175   \n",
       "2  Christian Bale, Heath Ledger, Aaron Eckhart, M...     152   \n",
       "3  Al Pacino, Robert De Niro, Robert Duvall, Dian...     202   \n",
       "4  Elijah Wood, Viggo Mortensen, Ian McKellen, Or...     201   \n",
       "\n",
       "                                         Description  \n",
       "0  Two imprisoned men bond over a number of years...  \n",
       "1  The aging patriarch of an organized crime dyna...  \n",
       "2  When the menace known as the Joker wreaks havo...  \n",
       "3  The early life and career of Vito Corleone in ...  \n",
       "4  Gandalf and Aragorn lead the World of Men agai...  "
      ]
     },
     "execution_count": 26,
     "metadata": {},
     "output_type": "execute_result"
    }
   ],
   "source": [
    "data.head()"
   ]
  },
  {
   "cell_type": "code",
   "execution_count": 27,
   "metadata": {},
   "outputs": [],
   "source": [
    "data.to_csv(\"Top_250_Movies_IMDB_Rating.csv\")"
   ]
  }
 ],
 "metadata": {
  "kernelspec": {
   "display_name": "Python 3",
   "language": "python",
   "name": "python3"
  },
  "language_info": {
   "codemirror_mode": {
    "name": "ipython",
    "version": 3
   },
   "file_extension": ".py",
   "mimetype": "text/x-python",
   "name": "python",
   "nbconvert_exporter": "python",
   "pygments_lexer": "ipython3",
   "version": "3.6.9"
  }
 },
 "nbformat": 4,
 "nbformat_minor": 2
}
