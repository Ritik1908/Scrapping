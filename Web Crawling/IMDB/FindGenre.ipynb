{
 "cells": [
  {
   "cell_type": "code",
   "execution_count": 17,
   "metadata": {},
   "outputs": [
    {
     "name": "stdout",
     "output_type": "stream",
     "text": [
      "['Drama', 'Crime', 'Action', 'Adventure', 'Fantasy', 'Biography', 'History', 'Western', 'Sci-Fi', 'Romance', 'Animation', 'Family', 'War', 'Comedy', 'Mystery', 'Thriller', 'Music', 'Horror', 'Film-Noir', 'Musical', 'Sport']\n"
     ]
    }
   ],
   "source": [
    "import pandas\n",
    "\n",
    "Data = pandas.read_csv(\"Top_250_Movies_IMDB_Rating.csv\")\n",
    "data = Data.Genre\n",
    "genre=[]\n",
    "for i in data :\n",
    "    strings = i.split(',')\n",
    "    for st in strings :\n",
    "        if st.strip() not in genre :\n",
    "            genre.append(st.strip())\n",
    "file = open(\"genre.txt\", \"a\")\n",
    "for item in genre :\n",
    "    file.write(item+\"\\n\")\n",
    "file.close()\n",
    "print(genre)\n",
    "\n"
   ]
  }
 ],
 "metadata": {
  "kernelspec": {
   "display_name": "Python 3",
   "language": "python",
   "name": "python3"
  },
  "language_info": {
   "codemirror_mode": {
    "name": "ipython",
    "version": 3
   },
   "file_extension": ".py",
   "mimetype": "text/x-python",
   "name": "python",
   "nbconvert_exporter": "python",
   "pygments_lexer": "ipython3",
   "version": "3.6.9"
  }
 },
 "nbformat": 4,
 "nbformat_minor": 2
}
