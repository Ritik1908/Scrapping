{
 "cells": [
  {
   "cell_type": "code",
   "execution_count": 1,
   "metadata": {},
   "outputs": [],
   "source": [
    "from selenium import webdriver\n",
    "import time\n",
    "from random import randint\n",
    "from random import shuffle\n",
    "import pandas as pd\n",
    "\n",
    "from openpyxl import Workbook\n",
    "# from http_request_randomizer.requests.proxy.requestProxy import RequestProxy\n",
    "\n",
    "from bs4 import BeautifulSoup\n",
    "\n",
    "\n",
    "# req_proxy = RequestProxy() #you may get different number of proxy when  you run this at each time\n",
    "# proxies = req_proxy.get_proxy_list() #this will create proxy list\n",
    "\n",
    "# p_num = 0\n",
    "# PROXY = proxies[p_num].get_address()\n",
    "# webdriver.DesiredCapabilities.CHROME['proxy']={\n",
    "#     \"httpProxy\":PROXY,\n",
    "#     \"ftpProxy\":PROXY,\n",
    "#     \"sslProxy\":PROXY,\n",
    "#     \"proxyType\":\"MANUAL\",\n",
    "# }\n",
    "        \n",
    "\n",
    "#TO START CHROMIUM ENGINE i.e CHROME BROWSER \n",
    "driver = webdriver.Chrome('/home/ritik/Desktop/extras/chromedriver')"
   ]
  },
  {
   "cell_type": "code",
   "execution_count": 2,
   "metadata": {},
   "outputs": [],
   "source": [
    "profile_links = pd.read_csv(\"links.csv\")"
   ]
  },
  {
   "cell_type": "code",
   "execution_count": 3,
   "metadata": {},
   "outputs": [],
   "source": [
    "profile_links = profile_links[\"data\"].tolist()"
   ]
  },
  {
   "cell_type": "code",
   "execution_count": 4,
   "metadata": {},
   "outputs": [
    {
     "data": {
      "text/plain": [
       "['https://www.linkedin.com/in/kunal-gohrani/',\n",
       " 'https://www.linkedin.com/in/ritashri-mishra-aa114814b',\n",
       " 'https://www.linkedin.com/in/ujjaineede',\n",
       " 'https://www.linkedin.com/in/sudeshna-pahari-44592416',\n",
       " 'https://www.linkedin.com/in/arpita-halder-8718b413b',\n",
       " 'https://www.linkedin.com/in/priscila-tamang-ghising-a703b1174',\n",
       " 'https://www.linkedin.com/in/prasansha-sureka-550aa0178',\n",
       " 'https://www.linkedin.com/in/anuja-agarwal',\n",
       " 'https://www.linkedin.com/in/kaushal-agarwal-15b086183',\n",
       " 'https://www.linkedin.com/in/surabhi-basak',\n",
       " 'https://www.linkedin.com/in/mushrequa-nawaz-a3b1881a0',\n",
       " 'https://www.linkedin.com/in/gazal-garg-073a2719b',\n",
       " 'https://www.linkedin.com/in/ritwik-ghosh-01ba01152',\n",
       " 'https://www.linkedin.com/in/anamika-banerjee-744965167',\n",
       " 'https://www.linkedin.com/in/subhamdasgupta',\n",
       " 'https://www.linkedin.com/in/apurwa-arya-2b9988157',\n",
       " 'https://www.linkedin.com/in/sharika-anjum-mondal-8b80a3188',\n",
       " 'https://www.linkedin.com/in/bhavna-kumari-4b671a182',\n",
       " 'https://www.linkedin.com/in/souhardyachatterjee',\n",
       " 'https://www.linkedin.com/in/bikram-ruj-840aa1180',\n",
       " 'https://www.linkedin.com/in/ritik-v-100516a5',\n",
       " 'https://www.linkedin.com/in/neha-singh-3aa7aa85',\n",
       " 'https://www.linkedin.com/in/sayantani-mukherjee-499605144',\n",
       " 'https://www.linkedin.com/in/anamika-banerjee-744965167',\n",
       " 'https://www.linkedin.com/in/writaja-chakravarty-867108171',\n",
       " 'https://www.linkedin.com/in/suyashi-patodia-667b04157',\n",
       " 'https://www.linkedin.com/in/anwesha-gupta-84116016b',\n",
       " 'https://www.linkedin.com/in/prasansha-sureka-550aa0178',\n",
       " 'https://www.linkedin.com/in/mallika-das-1ba02717a',\n",
       " 'https://www.linkedin.com/in/sayantani-dey-3401bb17b',\n",
       " 'https://www.linkedin.com/in/trisha-biswas-888225150',\n",
       " 'https://www.linkedin.com/in/sayanti-das-848a52133',\n",
       " 'https://www.linkedin.com/in/shreyasi-chatterjee-281682169',\n",
       " 'https://www.linkedin.com/in/susmita-bhowmick-916692153',\n",
       " 'https://www.linkedin.com/in/kabita-patwa-027240189',\n",
       " 'https://www.linkedin.com/in/mahamuda-sultana',\n",
       " 'https://www.linkedin.com/in/purvasha-tripathi-721282105',\n",
       " 'https://www.linkedin.com/in/ratnopriya-chatterjee-5279a3159',\n",
       " 'https://www.linkedin.com/in/sabnam-sultana-a4103a184',\n",
       " 'https://www.linkedin.com/in/pallavi-samal-15a719147',\n",
       " 'https://www.linkedin.com/in/oishee-mukhopadhyay-b4b3b7138',\n",
       " 'https://www.linkedin.com/in/ritashri-mishra-aa114814b',\n",
       " 'https://www.linkedin.com/in/sayani-mitra-9a33a7ab',\n",
       " 'https://www.linkedin.com/in/priscila-tamang-ghising-a703b1174',\n",
       " 'https://www.linkedin.com/in/ayashree-ghosh-861811174',\n",
       " 'https://www.linkedin.com/in/tashfeen-kausar-732a5942',\n",
       " 'https://www.linkedin.com/in/charu-goyal-86b296170',\n",
       " 'https://www.linkedin.com/in/prasansha-sureka-550aa0178',\n",
       " 'https://www.linkedin.com/in/kaushal-agarwal-15b086183',\n",
       " 'https://www.linkedin.com/in/kunal-gohrani',\n",
       " 'https://www.linkedin.com/in/madhu-gupta-379343137',\n",
       " 'https://www.linkedin.com/in/aindrila-halder-1a24ba18b',\n",
       " 'https://www.linkedin.com/in/ritwik-ghosh-01ba01152',\n",
       " 'https://www.linkedin.com/in/puja-sah-44815a184',\n",
       " 'https://www.linkedin.com/in/rashi-sharma-161a16156',\n",
       " 'https://www.linkedin.com/in/syeda-tamanna-arifeen-bb4308161',\n",
       " 'https://www.linkedin.com/in/puja-mondal-b0595a173',\n",
       " 'https://www.linkedin.com/in/suchismita-swami-ba7519190',\n",
       " 'https://www.linkedin.com/in/soumojit-roy-979363180',\n",
       " 'https://www.linkedin.com/in/rmujib1999',\n",
       " 'https://www.linkedin.com/in/dreeshani-mandal-45597a155',\n",
       " 'https://www.linkedin.com/in/rituparna-sen-229b01189',\n",
       " 'https://www.linkedin.com/in/ritashri-mishra-aa114814b',\n",
       " 'https://www.linkedin.com/in/harshita-saboo-b54433141',\n",
       " 'https://www.linkedin.com/in/madhu-gupta-379343137',\n",
       " 'https://www.linkedin.com/in/mrityunjay-ghosh',\n",
       " 'https://www.linkedin.com/in/kunal-gohrani',\n",
       " 'https://www.linkedin.com/in/dishari-ghosh-2514ba1a0',\n",
       " 'https://www.linkedin.com/in/sushmitasaha006',\n",
       " 'https://www.linkedin.com/in/subhamdasgupta',\n",
       " 'https://www.linkedin.com/in/shubham-deshmukh-662210190',\n",
       " 'https://www.linkedin.com/in/vedant-khemka-88a2b5131',\n",
       " 'https://www.linkedin.com/in/shubham-prasad-25614b167',\n",
       " 'https://www.linkedin.com/in/nisha-das-0b3377145',\n",
       " 'https://www.linkedin.com/in/sukalpa-das-5499b1145',\n",
       " 'https://www.linkedin.com/in/malhar-butani-73bb33194',\n",
       " 'https://www.linkedin.com/in/madhuri-nyshadam-127044196',\n",
       " 'https://www.linkedin.com/in/mukesh-kumar-pradhan-762421182',\n",
       " 'https://www.linkedin.com/in/partha-pratim-das-gupta-50a1a8135',\n",
       " 'https://www.linkedin.com/in/suyash-jain-003220193',\n",
       " 'https://www.linkedin.com/in/sharika-anjum-mondal-8b80a3188',\n",
       " 'https://www.linkedin.com/in/ritashri-mishra-aa114814b',\n",
       " 'https://www.linkedin.com/in/rajatsubhra-chakraborty-6bb133168',\n",
       " 'https://www.linkedin.com/in/prapti-hazra-357016194',\n",
       " 'https://www.linkedin.com/in/kunal-gohrani',\n",
       " 'https://www.linkedin.com/in/indira-ghosh-8a085a86',\n",
       " 'https://www.linkedin.com/in/gareema-dhingra-7b1567151',\n",
       " 'https://www.linkedin.com/in/rajadri-mallick-52b831180',\n",
       " 'https://www.linkedin.com/in/aditya-gupta-80b46718a',\n",
       " 'https://www.linkedin.com/in/swagata-acharya-09aba0102',\n",
       " 'https://www.linkedin.com/in/zargham-ahmed-khan-657875143',\n",
       " 'https://www.linkedin.com/in/muskan-salampuria',\n",
       " 'https://www.linkedin.com/in/anik-s-599272ba',\n",
       " 'https://www.linkedin.com/in/haimosree-chakrabarti-9044421a2',\n",
       " 'https://www.linkedin.com/in/vikash-saraf-11983a28',\n",
       " 'https://www.linkedin.com/in/makautwbit-2019',\n",
       " 'https://www.linkedin.com/in/sourav-kumar-pal-7b76b6182',\n",
       " 'https://www.linkedin.com/in/karthik-g-7a748518a',\n",
       " 'https://www.linkedin.com/in/gaurab-roy-1a99b6164',\n",
       " 'https://www.linkedin.com/in/priya-mukherjee-22558a1a2',\n",
       " 'https://www.linkedin.com/in/qasim-ali-744b8b1a2',\n",
       " 'https://www.linkedin.com/in/ujjaineede',\n",
       " 'https://www.linkedin.com/in/debdutta-mukherjee-192740175',\n",
       " 'https://www.linkedin.com/in/abhishek-tarmali-ba4129169',\n",
       " 'https://www.linkedin.com/in/ayashree-ghosh-861811174',\n",
       " 'https://www.linkedin.com/in/roshni-rupali-d-1826a9181',\n",
       " 'https://www.linkedin.com/in/akash-kumar-6478b31a8',\n",
       " 'https://www.linkedin.com/in/wendy-reynolds-26602267',\n",
       " 'https://www.linkedin.com/in/kunal-gohrani',\n",
       " 'https://www.linkedin.com/in/shristy-aggarwal-a59870190',\n",
       " 'https://www.linkedin.com/in/mushrequa-nawaz-a3b1881a0',\n",
       " 'https://www.linkedin.com/in/gazal-garg-073a2719b',\n",
       " 'https://www.linkedin.com/in/ritwik-ghosh-01ba01152',\n",
       " 'https://www.linkedin.com/in/bikram-ruj-840aa1180',\n",
       " 'https://www.linkedin.com/in/souhardyachatterjee',\n",
       " 'https://www.linkedin.com/in/gautami-tiwary-2552a2195',\n",
       " 'https://www.linkedin.com/in/puja-mondal-b0595a173',\n",
       " 'https://www.linkedin.com/in/panchashil-tamang-69944694',\n",
       " 'https://www.linkedin.com/in/nibir-das-51335b169',\n",
       " 'https://www.linkedin.com/in/rohit-singh-556585189',\n",
       " 'https://www.linkedin.com/in/subrata-mukherjee-b7a180199',\n",
       " 'https://www.linkedin.com/in/ritashri-mishra-aa114814b',\n",
       " 'https://www.linkedin.com/in/trisha-biswas-888225150',\n",
       " 'https://www.linkedin.com/in/anamika-banerjee-744965167',\n",
       " 'https://www.linkedin.com/in/ujjaineede',\n",
       " 'https://www.linkedin.com/in/sabnam-sultana-a4103a184',\n",
       " 'https://www.linkedin.com/in/saadia-hossain-972161149',\n",
       " 'https://www.linkedin.com/in/nikita-sharma-aaa846142',\n",
       " 'https://www.linkedin.com/in/arunima-mukherjee-009108158',\n",
       " 'https://www.linkedin.com/in/harsh-mayank-9937b9163',\n",
       " 'https://www.linkedin.com/in/atif-khan-242963179',\n",
       " 'https://www.linkedin.com/in/ankit-srivastava-b01060184',\n",
       " 'https://www.linkedin.com/in/ananya-agrawal-227643190',\n",
       " 'https://www.linkedin.com/in/aditi-chakraborty-5869a5198',\n",
       " 'https://www.linkedin.com/in/jyoti-kumari-156478148',\n",
       " 'https://www.linkedin.com/in/simran-keshari-99807b170',\n",
       " 'https://www.linkedin.com/in/kunal-gohrani',\n",
       " 'https://www.linkedin.com/in/chandramantha-sen-53644211a',\n",
       " 'https://www.linkedin.com/in/wrishita-chatterjee-504585166',\n",
       " 'https://www.linkedin.com/in/mona-poddar-066856153',\n",
       " 'https://www.linkedin.com/in/vedansh-choudhary-11b109171',\n",
       " 'https://www.linkedin.com/in/pranavi-vashishtha-270412182',\n",
       " 'https://www.linkedin.com/in/simriti-gupta-9223a6135',\n",
       " 'https://www.linkedin.com/in/prince-dhingra-027a0b13a',\n",
       " 'https://www.linkedin.com/in/harshini-chandak-286a74152',\n",
       " 'https://www.linkedin.com/in/abhishek-gupta98',\n",
       " 'https://www.linkedin.com/in/vineet-chaudhary-197027102',\n",
       " 'https://www.linkedin.com/in/au05252',\n",
       " 'https://www.linkedin.com/in/nehal-sharma-597186195',\n",
       " 'https://www.linkedin.com/in/sarika-dhaka-ba8097170',\n",
       " 'https://www.linkedin.com/in/prakratey-rai-968157104',\n",
       " 'https://www.linkedin.com/in/prashant-singh-270464143',\n",
       " 'https://www.linkedin.com/in/amitywe',\n",
       " 'https://www.linkedin.com/in/animesh-singh-11b086172',\n",
       " 'https://www.linkedin.com/in/dr-ankur-choudhary-26799256',\n",
       " 'https://www.linkedin.com/in/ayushi-sharma-2aa38b169',\n",
       " 'https://www.linkedin.com/in/kunal-pahwa-5a11a9179',\n",
       " 'https://www.linkedin.com/in/monisha-dubey-38641a159',\n",
       " 'https://www.linkedin.com/in/iamhkmehta',\n",
       " 'https://www.linkedin.com/in/ankita-srivastava-34291994',\n",
       " 'https://www.linkedin.com/in/ankit-gaurav-b30526140',\n",
       " 'https://www.linkedin.com/in/chandrima-sarkar-89242218b',\n",
       " 'https://www.linkedin.com/in/ujjaineede',\n",
       " 'https://www.linkedin.com/in/vishalshaw111',\n",
       " 'https://www.linkedin.com/in/kunal-gohrani',\n",
       " 'https://www.linkedin.com/in/bhavna-kumari-4b671a182',\n",
       " 'https://www.linkedin.com/in/sankha-subhra-mondal-540133168',\n",
       " 'https://www.linkedin.com/in/arya-sarkar-78831782',\n",
       " 'https://www.linkedin.com/in/apurwa-arya-2b9988157',\n",
       " 'https://www.linkedin.com/in/anjali-kumari-687956156',\n",
       " 'https://www.linkedin.com/in/dipam-hazra-71743218b',\n",
       " 'https://www.linkedin.com/in/sharika-anjum-mondal-8b80a3188',\n",
       " 'https://www.linkedin.com/in/amitrajitbose',\n",
       " 'https://www.linkedin.com/in/sabyganguly',\n",
       " 'https://www.linkedin.com/in/akanksha-singh-4173aa187',\n",
       " 'https://www.linkedin.com/in/ishika-roy-56501a179',\n",
       " 'https://www.linkedin.com/in/sneha-samadder-a30a61195',\n",
       " 'https://www.linkedin.com/in/saheli-roy-9585541a1',\n",
       " 'https://www.linkedin.com/in/piyush-banka-a82353191',\n",
       " 'https://www.linkedin.com/in/tousif-adnan-3a04a7180',\n",
       " 'https://www.linkedin.com/in/sayan-bose7',\n",
       " 'https://www.linkedin.com/in/ujjaineede',\n",
       " 'https://www.linkedin.com/in/chandrima-sarkar-89242218b',\n",
       " 'https://www.linkedin.com/in/kunal-gohrani',\n",
       " 'https://www.linkedin.com/in/sushree-siddhishikha-6b942118b',\n",
       " 'https://www.linkedin.com/in/kaushal-agarwal-15b086183',\n",
       " 'https://www.linkedin.com/in/bhavna-kumari-4b671a182',\n",
       " 'https://www.linkedin.com/in/madhu-gupta-379343137',\n",
       " 'https://www.linkedin.com/in/sankha-subhra-mondal-540133168',\n",
       " 'https://www.linkedin.com/in/sharika-anjum-mondal-8b80a3188',\n",
       " 'https://www.linkedin.com/in/ritwik-ghosh-01ba01152',\n",
       " 'https://www.linkedin.com/in/dipam-hazra-71743218b',\n",
       " 'https://www.linkedin.com/in/souhardyachatterjee',\n",
       " 'https://www.linkedin.com/in/atri-chaudhuri-52a05a1a0',\n",
       " 'https://www.linkedin.com/in/syeda-tamanna-arifeen-bb4308161',\n",
       " 'https://www.linkedin.com/in/ayesha-parveen-709490129',\n",
       " 'https://www.linkedin.com/in/pitamber-agrawal-106262152',\n",
       " 'https://www.linkedin.com/in/sudhanshu-shah-9830192386',\n",
       " 'https://www.linkedin.com/in/milan-hembram-a0942a164',\n",
       " 'https://www.linkedin.com/in/rmujib1999',\n",
       " 'https://www.linkedin.com/in/kalyani-kumari-5041151a0',\n",
       " 'https://www.linkedin.com/in/sayantan003',\n",
       " 'https://www.linkedin.com/in/gazal-garg-073a2719b',\n",
       " 'https://www.linkedin.com/in/priscila-tamang-ghising-a703b1174',\n",
       " 'https://www.linkedin.com/in/kunal-gohrani',\n",
       " 'https://www.linkedin.com/in/mrinalpradhann',\n",
       " 'https://www.linkedin.com/in/ritwik-ghosh-01ba01152',\n",
       " 'https://www.linkedin.com/in/souhardyachatterjee',\n",
       " 'https://www.linkedin.com/in/atri-chaudhuri-52a05a1a0',\n",
       " 'https://www.linkedin.com/in/ritik-v-100516a5',\n",
       " 'https://www.linkedin.com/in/vedansh-choudhary-11b109171',\n",
       " 'https://www.linkedin.com/in/puja-sah-44815a184',\n",
       " 'https://www.linkedin.com/in/muzammirah-kamal-6aa5ba187',\n",
       " 'https://www.linkedin.com/in/antara-banik-205687177',\n",
       " 'https://www.linkedin.com/in/puja-mondal-b0595a173',\n",
       " 'https://www.linkedin.com/in/sushree-siddhishikha-6b942118b',\n",
       " 'https://www.linkedin.com/in/swapnil-das-a79a3819b',\n",
       " 'https://www.linkedin.com/in/arnav-acharya-46008115a',\n",
       " 'https://www.linkedin.com/in/nehal-gupta-665382159',\n",
       " 'https://www.linkedin.com/in/rashi-sharma-161a16156',\n",
       " 'https://www.linkedin.com/in/rishabh-pipalwa-0416b3171',\n",
       " 'https://www.linkedin.com/in/ritashri-mishra-aa114814b',\n",
       " 'https://www.linkedin.com/in/ujjaineede',\n",
       " 'https://www.linkedin.com/in/mushrequa-nawaz-a3b1881a0',\n",
       " 'https://www.linkedin.com/in/priscila-tamang-ghising-a703b1174',\n",
       " 'https://www.linkedin.com/in/mrinalpradhann',\n",
       " 'https://www.linkedin.com/in/tarpan-das-1b563b16b',\n",
       " 'https://www.linkedin.com/in/kunal-gohrani',\n",
       " 'https://www.linkedin.com/in/ritwik-ghosh-01ba01152',\n",
       " 'https://www.linkedin.com/in/ayantika-ghosh-4748b3199',\n",
       " 'https://www.linkedin.com/in/puja-mondal-b0595a173',\n",
       " 'https://www.linkedin.com/in/sagar-khanra-2a0967173',\n",
       " 'https://www.linkedin.com/in/puja-sah-44815a184',\n",
       " 'https://www.linkedin.com/in/kashika-jhun-jhun-wala-510996188',\n",
       " 'https://www.linkedin.com/in/shristy-aggarwal-a59870190',\n",
       " 'https://www.linkedin.com/in/pritam-das-0a00b5178',\n",
       " 'https://www.linkedin.com/in/swapnil-das-a79a3819b',\n",
       " 'https://www.linkedin.com/in/deeptam-de-b43764185',\n",
       " 'https://www.linkedin.com/in/rashi-sharma-161a16156',\n",
       " 'https://www.linkedin.com/in/suchismita-swami-ba7519190',\n",
       " 'https://www.linkedin.com/in/anik-roy-0b7756181',\n",
       " 'https://www.linkedin.com/in/ujjaineede',\n",
       " 'https://www.linkedin.com/in/madhu-gupta-379343137',\n",
       " 'https://www.linkedin.com/in/prasansha-sureka-550aa0178',\n",
       " 'https://www.linkedin.com/in/sparsh-agarwal-3ba308156',\n",
       " 'https://www.linkedin.com/in/agnibes-sen-5856b810b',\n",
       " 'https://www.linkedin.com/in/priscila-tamang-ghising-a703b1174',\n",
       " 'https://www.linkedin.com/in/callmesaitama',\n",
       " 'https://www.linkedin.com/in/kunal-gohrani',\n",
       " 'https://www.linkedin.com/in/ritik-v-100516a5',\n",
       " 'https://www.linkedin.com/in/minakshi-bose-634318161',\n",
       " 'https://www.linkedin.com/in/swagata-mukherjee-a96510143',\n",
       " 'https://www.linkedin.com/in/writaja-chakravarty-867108171',\n",
       " 'https://www.linkedin.com/in/ritashri-mishra-aa114814b',\n",
       " 'https://www.linkedin.com/in/oishee-mukhopadhyay-b4b3b7138',\n",
       " 'https://www.linkedin.com/in/shreyasi-chatterjee-281682169',\n",
       " 'https://www.linkedin.com/in/payel-mukherjee-a145b5b3',\n",
       " 'https://www.linkedin.com/in/charu-goyal-86b296170',\n",
       " 'https://www.linkedin.com/in/suyashi-patodia-667b04157',\n",
       " 'https://www.linkedin.com/in/dr-keya-das-ghosh-0a719150',\n",
       " 'https://www.linkedin.com/in/somi-patranabis-0a341b41',\n",
       " 'https://www.linkedin.com/in/saadia-hossain-972161149',\n",
       " 'https://www.linkedin.com/in/dr-anindita-ghosh-1348a151',\n",
       " 'https://www.linkedin.com/in/dr-ajanta-sarkar-76b8b0142',\n",
       " 'https://www.linkedin.com/in/nilasha-roy-4049a0176',\n",
       " 'https://www.linkedin.com/in/mrityunjay-ghosh',\n",
       " 'https://www.linkedin.com/in/mallika-das-1ba02717a',\n",
       " 'https://www.linkedin.com/in/prasansha-sureka-550aa0178',\n",
       " 'https://www.linkedin.com/in/trisha-biswas-888225150',\n",
       " 'https://www.linkedin.com/in/arunima-bhattacharya-04177b146',\n",
       " 'https://www.linkedin.com/in/mahamuda-sultana',\n",
       " 'https://www.linkedin.com/in/ujjaineede',\n",
       " 'https://www.linkedin.com/in/madhu-gupta-379343137',\n",
       " 'https://www.linkedin.com/in/prasansha-sureka-550aa0178',\n",
       " 'https://www.linkedin.com/in/sparsh-agarwal-3ba308156',\n",
       " 'https://www.linkedin.com/in/agnibes-sen-5856b810b',\n",
       " 'https://www.linkedin.com/in/priscila-tamang-ghising-a703b1174',\n",
       " 'https://www.linkedin.com/in/callmesaitama',\n",
       " 'https://www.linkedin.com/in/kunal-gohrani',\n",
       " 'https://www.linkedin.com/in/ritik-v-100516a5',\n",
       " 'https://www.linkedin.com/in/minakshi-bose-634318161',\n",
       " 'https://www.linkedin.com/in/swagata-mukherjee-a96510143',\n",
       " 'https://www.linkedin.com/in/writaja-chakravarty-867108171',\n",
       " 'https://www.linkedin.com/in/ritashri-mishra-aa114814b',\n",
       " 'https://www.linkedin.com/in/oishee-mukhopadhyay-b4b3b7138',\n",
       " 'https://www.linkedin.com/in/shreyasi-chatterjee-281682169',\n",
       " 'https://www.linkedin.com/in/payel-mukherjee-a145b5b3',\n",
       " 'https://www.linkedin.com/in/charu-goyal-86b296170',\n",
       " 'https://www.linkedin.com/in/suyashi-patodia-667b04157',\n",
       " 'https://www.linkedin.com/in/dr-keya-das-ghosh-0a719150',\n",
       " 'https://www.linkedin.com/in/somi-patranabis-0a341b41',\n",
       " 'https://www.linkedin.com/in/swagata-mukherjee-a96510143',\n",
       " 'https://www.linkedin.com/in/writaja-chakravarty-867108171',\n",
       " 'https://www.linkedin.com/in/ritashri-mishra-aa114814b',\n",
       " 'https://www.linkedin.com/in/oishee-mukhopadhyay-b4b3b7138',\n",
       " 'https://www.linkedin.com/in/shreyasi-chatterjee-281682169',\n",
       " 'https://www.linkedin.com/in/payel-mukherjee-a145b5b3',\n",
       " 'https://www.linkedin.com/in/charu-goyal-86b296170',\n",
       " 'https://www.linkedin.com/in/suyashi-patodia-667b04157',\n",
       " 'https://www.linkedin.com/in/dr-keya-das-ghosh-0a719150',\n",
       " 'https://www.linkedin.com/in/somi-patranabis-0a341b41',\n",
       " 'https://www.linkedin.com/in/saadia-hossain-972161149',\n",
       " 'https://www.linkedin.com/in/dr-anindita-ghosh-1348a151',\n",
       " 'https://www.linkedin.com/in/dr-ajanta-sarkar-76b8b0142',\n",
       " 'https://www.linkedin.com/in/nilasha-roy-4049a0176',\n",
       " 'https://www.linkedin.com/in/mrityunjay-ghosh',\n",
       " 'https://www.linkedin.com/in/mallika-das-1ba02717a',\n",
       " 'https://www.linkedin.com/in/prasansha-sureka-550aa0178',\n",
       " 'https://www.linkedin.com/in/trisha-biswas-888225150',\n",
       " 'https://www.linkedin.com/in/arunima-bhattacharya-04177b146',\n",
       " 'https://www.linkedin.com/in/mahamuda-sultana',\n",
       " 'https://www.linkedin.com/in/ujjaineede',\n",
       " 'https://www.linkedin.com/in/meghamala-chatterjee-6979a4195',\n",
       " 'https://www.linkedin.com/in/anju-s-sreedhar-4937a11a4',\n",
       " 'https://www.linkedin.com/in/bhavna-kumari-4b671a182',\n",
       " 'https://www.linkedin.com/in/kaushal-agarwal-15b086183',\n",
       " 'https://www.linkedin.com/in/durga-agarwal-52824218b',\n",
       " 'https://www.linkedin.com/in/kunal-gohrani',\n",
       " 'https://www.linkedin.com/in/kajal-varma-2a3726199',\n",
       " 'https://www.linkedin.com/in/sharika-anjum-mondal-8b80a3188',\n",
       " 'https://www.linkedin.com/in/sagnik-bhattacharya-916b9463',\n",
       " 'https://www.linkedin.com/in/chandrima-sarkar-89242218b',\n",
       " 'https://www.linkedin.com/in/madhu-gupta-379343137',\n",
       " 'https://www.linkedin.com/in/ritashri-mishra-aa114814b',\n",
       " 'https://www.linkedin.com/in/ujjaineede',\n",
       " 'https://www.linkedin.com/in/minakshi-bose-634318161',\n",
       " 'https://www.linkedin.com/in/aditi-chakraborty-5869a5198',\n",
       " 'https://www.linkedin.com/in/kunal-gohrani',\n",
       " 'https://www.linkedin.com/in/tanisa-samaddar-45341b165',\n",
       " 'https://www.linkedin.com/in/sayantani-dey-3401bb17b',\n",
       " 'https://www.linkedin.com/in/anamika-banerjee-744965167',\n",
       " 'https://www.linkedin.com/in/chandrima-sarkar-89242218b',\n",
       " 'https://www.linkedin.com/in/naren-debnath-aa084b144',\n",
       " 'https://www.linkedin.com/in/ujjaineede',\n",
       " 'https://www.linkedin.com/in/kaushal-agarwal-15b086183',\n",
       " 'https://www.linkedin.com/in/kabita-patwa-027240189',\n",
       " 'https://www.linkedin.com/in/kunal-gohrani',\n",
       " 'https://www.linkedin.com/in/sonal-prasad-b71047196',\n",
       " 'https://www.linkedin.com/in/nidhi-singh-568958167',\n",
       " 'https://www.linkedin.com/in/sharika-anjum-mondal-8b80a3188',\n",
       " 'https://www.linkedin.com/in/debabrata-paul-0b6946154',\n",
       " 'https://www.linkedin.com/in/ujjaineede',\n",
       " 'https://www.linkedin.com/in/sayari-paul-0bb254163',\n",
       " 'https://www.linkedin.com/in/sparsh-agarwal-3ba308156',\n",
       " 'https://www.linkedin.com/in/priscila-tamang-ghising-a703b1174',\n",
       " 'https://www.linkedin.com/in/atri-chaudhuri-52a05a1a0',\n",
       " 'https://www.linkedin.com/in/nidhi-agarwal-002a15132',\n",
       " 'https://www.linkedin.com/in/kunal-gohrani',\n",
       " 'https://www.linkedin.com/in/sharika-anjum-mondal-8b80a3188',\n",
       " 'https://www.linkedin.com/in/ritwik-ghosh-01ba01152',\n",
       " 'https://www.linkedin.com/in/mushrequa-nawaz-a3b1881a0',\n",
       " 'https://www.linkedin.com/in/ritashri-mishra-aa114814b',\n",
       " 'https://www.linkedin.com/in/dimple-bhuta-68425a47',\n",
       " 'https://www.linkedin.com/in/tashfeen-kausar-732a5942',\n",
       " 'https://www.linkedin.com/in/ujjaineede',\n",
       " 'https://www.linkedin.com/in/anamika-banerjee-744965167',\n",
       " 'https://www.linkedin.com/in/priscila-tamang-ghising-a703b1174',\n",
       " 'https://www.linkedin.com/in/shreyam-rungta-a7b2a0147',\n",
       " 'https://www.linkedin.com/in/muskaan-jain-851ab414a',\n",
       " 'https://www.linkedin.com/in/kunal-gohrani',\n",
       " 'https://www.linkedin.com/in/vineetnayak777',\n",
       " 'https://www.linkedin.com/in/tashfeen-kausar-732a5942',\n",
       " 'https://www.linkedin.com/in/syeda-tamanna-arifeen-bb4308161',\n",
       " 'https://www.linkedin.com/in/ritwik-ghosh-01ba01152',\n",
       " 'https://www.linkedin.com/in/sohini-datta-48aa16143',\n",
       " 'https://www.linkedin.com/in/smita-ghosh-230342180',\n",
       " 'https://www.linkedin.com/in/vedansh-choudhary-11b109171',\n",
       " 'https://www.linkedin.com/in/nusrat-jahan-387580189',\n",
       " 'https://www.linkedin.com/in/kunal-gohrani',\n",
       " 'https://www.linkedin.com/in/bikram-ruj-840aa1180',\n",
       " 'https://www.linkedin.com/in/atri-chaudhuri-52a05a1a0',\n",
       " 'https://www.linkedin.com/in/madhu-gupta-379343137',\n",
       " 'https://www.linkedin.com/in/shivanjali-mishra-6b1235139',\n",
       " 'https://www.linkedin.com/in/amal-gupta-45839032',\n",
       " 'https://www.linkedin.com/in/nilasha-roy-4049a0176',\n",
       " 'https://www.linkedin.com/in/ray-rahul-95b12012b',\n",
       " 'https://www.linkedin.com/in/suyashi-patodia-667b04157',\n",
       " 'https://www.linkedin.com/in/ritashri-mishra-aa114814b',\n",
       " 'https://www.linkedin.com/in/anamika-banerjee-744965167',\n",
       " 'https://www.linkedin.com/in/abhirupalaha1997',\n",
       " 'https://www.linkedin.com/in/anwesha-gupta-84116016b',\n",
       " 'https://www.linkedin.com/in/anita-sharma-8835b4168',\n",
       " 'https://www.linkedin.com/in/sagarika-kumari-82833b16a',\n",
       " 'https://www.linkedin.com/in/nilanjana-patel-kolkata',\n",
       " 'https://www.linkedin.com/in/malaika-arora-b759a9175',\n",
       " 'https://www.linkedin.com/in/gaytri-sardana-4a913546',\n",
       " 'https://www.linkedin.com/in/riddhima-mazumdar-59254111a',\n",
       " 'https://www.linkedin.com/in/riya-gupta-39140b132',\n",
       " 'https://www.linkedin.com/in/alka-rani-5253b5184',\n",
       " 'https://www.linkedin.com/in/jaya-amin-a65ba185',\n",
       " 'https://www.linkedin.com/in/rhea-malhotra-4a03a384',\n",
       " 'https://www.linkedin.com/in/swagata-mukherjee-a96510143',\n",
       " 'https://www.linkedin.com/in/writaja-chakravarty-867108171',\n",
       " 'https://www.linkedin.com/in/ritashri-mishra-aa114814b',\n",
       " 'https://www.linkedin.com/in/oishee-mukhopadhyay-b4b3b7138',\n",
       " 'https://www.linkedin.com/in/shreyasi-chatterjee-281682169',\n",
       " 'https://www.linkedin.com/in/payel-mukherjee-a145b5b3',\n",
       " 'https://www.linkedin.com/in/charu-goyal-86b296170',\n",
       " 'https://www.linkedin.com/in/suyashi-patodia-667b04157',\n",
       " 'https://www.linkedin.com/in/dr-keya-das-ghosh-0a719150',\n",
       " 'https://www.linkedin.com/in/somi-patranabis-0a341b41',\n",
       " 'https://www.linkedin.com/in/sakshi-sabherwal-1757709b',\n",
       " 'https://www.linkedin.com/in/kriti-mathur-320631166',\n",
       " 'https://www.linkedin.com/in/swathi-bojja-85706136',\n",
       " 'https://www.linkedin.com/in/sayantani-mukherjee-499605144',\n",
       " 'https://www.linkedin.com/in/charu-goyal-86b296170',\n",
       " 'https://www.linkedin.com/in/profile-adas',\n",
       " 'https://www.linkedin.com/in/soumya-rao-24b138176',\n",
       " 'https://www.linkedin.com/in/ishita-ghosh-780a84190',\n",
       " 'https://www.linkedin.com/in/tanya-arora-692bab66',\n",
       " 'https://www.linkedin.com/in/radhika-bajaj',\n",
       " 'https://www.linkedin.com/in/ritashri-mishra-aa114814b',\n",
       " 'https://www.linkedin.com/in/anamika-banerjee-744965167',\n",
       " 'https://www.linkedin.com/in/oishee-mukhopadhyay-b4b3b7138',\n",
       " 'https://www.linkedin.com/in/shalini-das-bb662414a',\n",
       " 'https://www.linkedin.com/in/mallika-das-1ba02717a',\n",
       " 'https://www.linkedin.com/in/shreyasi-chatterjee-281682169',\n",
       " 'https://www.linkedin.com/in/neha-singh-3aa7aa85',\n",
       " 'https://www.linkedin.com/in/minakshi-bose-634318161',\n",
       " 'https://www.linkedin.com/in/trisha-biswas-888225150',\n",
       " 'https://www.linkedin.com/in/chandramantha-sen-53644211a',\n",
       " 'https://www.linkedin.com/in/ritashri-mishra-aa114814b',\n",
       " 'https://www.linkedin.com/in/anamika-banerjee-744965167',\n",
       " 'https://www.linkedin.com/in/sumanta-nag-4546b45a',\n",
       " 'https://www.linkedin.com/in/oishee-mukhopadhyay-b4b3b7138',\n",
       " 'https://www.linkedin.com/in/trisha-biswas-888225150',\n",
       " 'https://www.linkedin.com/in/suyashi-patodia-667b04157',\n",
       " 'https://www.linkedin.com/in/neha-singh-3aa7aa85',\n",
       " 'https://www.linkedin.com/in/somi-patranabis-0a341b41',\n",
       " 'https://www.linkedin.com/in/shreyasi-chatterjee-281682169',\n",
       " 'https://www.linkedin.com/in/biotechnology-amity-kolkata-b59484124',\n",
       " 'https://www.linkedin.com/in/ritashri-mishra-aa114814b',\n",
       " 'https://www.linkedin.com/in/trisha-biswas-888225150',\n",
       " 'https://www.linkedin.com/in/anamika-banerjee-744965167',\n",
       " 'https://www.linkedin.com/in/ujjaineede',\n",
       " 'https://www.linkedin.com/in/sabnam-sultana-a4103a184',\n",
       " 'https://www.linkedin.com/in/saadia-hossain-972161149',\n",
       " 'https://www.linkedin.com/in/nikita-sharma-aaa846142',\n",
       " 'https://www.linkedin.com/in/arunima-mukherjee-009108158',\n",
       " 'https://www.linkedin.com/in/harsh-mayank-9937b9163',\n",
       " 'https://www.linkedin.com/in/atif-khan-242963179',\n",
       " 'https://www.linkedin.com/in/subrata-sen-aa769563',\n",
       " 'https://www.linkedin.com/in/sudiepa-mukherjee-a5030739',\n",
       " 'https://www.linkedin.com/in/minal-dalvi-32619b52',\n",
       " 'https://www.linkedin.com/in/charvi-kalra-777532198',\n",
       " 'https://www.linkedin.com/in/kunal-pramanik-539ba5ab',\n",
       " 'https://www.linkedin.com/in/ritashri-mishra-aa114814b',\n",
       " 'https://www.linkedin.com/in/nikhil-verma-741b93a8',\n",
       " 'https://www.linkedin.com/in/anamika-banerjee-744965167',\n",
       " 'https://www.linkedin.com/in/tashfeen-kausar-732a5942',\n",
       " 'https://www.linkedin.com/in/harshita-agarwal-351999114',\n",
       " 'https://www.linkedin.com/in/prof-dr-goutam-chatterjee-a1b34221',\n",
       " 'https://www.linkedin.com/in/anveshijain',\n",
       " 'https://www.linkedin.com/in/sharmatrisha',\n",
       " 'https://www.linkedin.com/in/madhu-dhameja-95765757',\n",
       " 'https://www.linkedin.com/in/aparajita-hore-a2b81017b',\n",
       " 'https://www.linkedin.com/in/ritashri-mishra-aa114814b',\n",
       " 'https://www.linkedin.com/in/arunima-bhattacharya-04177b146',\n",
       " 'https://www.linkedin.com/in/kavita-joshi-01178517b',\n",
       " 'https://www.linkedin.com/in/kabita-patwa-027240189',\n",
       " 'https://www.linkedin.com/in/priyanka-vind-83b577146',\n",
       " 'https://www.linkedin.com/in/chandreyee-chowdhury-56244263',\n",
       " 'https://www.linkedin.com/in/neha-singh-3aa7aa85',\n",
       " 'https://www.linkedin.com/in/sayantani-mukherjee-499605144',\n",
       " 'https://www.linkedin.com/in/ritashri-mishra-aa114814b',\n",
       " 'https://www.linkedin.com/in/writaja-chakravarty-867108171',\n",
       " 'https://www.linkedin.com/in/sayantani-dey-3401bb17b',\n",
       " 'https://www.linkedin.com/in/anamika-banerjee-744965167',\n",
       " 'https://www.linkedin.com/in/aditi-singh-50b2a81a1',\n",
       " 'https://www.linkedin.com/in/aditi-chakraborty-5869a5198',\n",
       " 'https://www.linkedin.com/in/suyashi-patodia-667b04157',\n",
       " 'https://www.linkedin.com/in/ritashri-mishra-aa114814b',\n",
       " 'https://www.linkedin.com/in/anamika-banerjee-744965167',\n",
       " 'https://www.linkedin.com/in/suyashi-patodia-667b04157',\n",
       " 'https://www.linkedin.com/in/trisha-biswas-888225150',\n",
       " 'https://www.linkedin.com/in/shreyasi-chatterjee-281682169',\n",
       " 'https://www.linkedin.com/in/neha-singh-3aa7aa85',\n",
       " 'https://www.linkedin.com/in/sabnam-sultana-a4103a184',\n",
       " 'https://www.linkedin.com/in/sampurna-basu-829359105',\n",
       " 'https://www.linkedin.com/in/amrita-mohanty-09823b172',\n",
       " 'https://www.linkedin.com/in/r-malsawmhlui-03b63a140',\n",
       " 'https://www.linkedin.com/in/ritashri-mishra-aa114814b',\n",
       " 'https://www.linkedin.com/in/payel-mukherjee-a145b5b3',\n",
       " 'https://www.linkedin.com/in/shalini-das-bb662414a',\n",
       " 'https://www.linkedin.com/in/writaja-chakravarty-867108171',\n",
       " 'https://www.linkedin.com/in/anamika-banerjee-744965167',\n",
       " 'https://www.linkedin.com/in/mallika-das-1ba02717a',\n",
       " 'https://www.linkedin.com/in/trisha-biswas-888225150',\n",
       " 'https://www.linkedin.com/in/suyashi-patodia-667b04157',\n",
       " 'https://www.linkedin.com/in/neha-singh-3aa7aa85',\n",
       " 'https://www.linkedin.com/in/arunima-mukherjee-009108158',\n",
       " 'https://www.linkedin.com/in/agnibes-sen-5856b810b',\n",
       " 'https://www.linkedin.com/in/ritashri-mishra-aa114814b',\n",
       " 'https://www.linkedin.com/in/anamika-banerjee-744965167',\n",
       " 'https://www.linkedin.com/in/mallika-das-1ba02717a',\n",
       " 'https://www.linkedin.com/in/trisha-biswas-888225150',\n",
       " 'https://www.linkedin.com/in/shreyasi-chatterjee-281682169',\n",
       " 'https://www.linkedin.com/in/shristi-sharma-6318901a1',\n",
       " 'https://www.linkedin.com/in/ratnopriya-chatterjee-5279a3159',\n",
       " 'https://www.linkedin.com/in/mahasweta-ruj-97188b1a7',\n",
       " 'https://www.linkedin.com/in/sabahat-jabeen-252553183',\n",
       " 'https://www.linkedin.com/in/prof-dr-goutam-chatterjee-a1b34221',\n",
       " 'https://www.linkedin.com/in/ritashri-mishra-aa114814b',\n",
       " 'https://www.linkedin.com/in/oliva-roy-a35862196',\n",
       " 'https://www.linkedin.com/in/naren-debnath-aa084b144',\n",
       " 'https://www.linkedin.com/in/aparajita-hore-a2b81017b',\n",
       " 'https://www.linkedin.com/in/sonal-prasad-b71047196',\n",
       " 'https://www.linkedin.com/in/suchismita-biswas-9bb950178',\n",
       " 'https://www.linkedin.com/in/ratnopriya-chatterjee-5279a3159',\n",
       " 'https://www.linkedin.com/in/kankana-bandyopadhyay-454980155',\n",
       " 'https://www.linkedin.com/in/diksha-debnath-51810416a',\n",
       " 'https://www.linkedin.com/in/payel-mukherjee-a145b5b3',\n",
       " 'https://www.linkedin.com/in/dr-anindita-ghosh-1348a151',\n",
       " 'https://www.linkedin.com/in/somi-patranabis-0a341b41',\n",
       " 'https://www.linkedin.com/in/writaja-chakravarty-867108171',\n",
       " 'https://www.linkedin.com/in/archita-pal-choudhury-a8547818a',\n",
       " 'https://www.linkedin.com/in/dr-sreemoyee-guha-roy-11846444',\n",
       " 'https://www.linkedin.com/in/dr-subhamita-mukherjee-549469152',\n",
       " 'https://www.linkedin.com/in/charu-goyal-86b296170',\n",
       " 'https://www.linkedin.com/in/dr-s-k-gupta-53608a87',\n",
       " 'https://www.linkedin.com/in/sanghamitra-poddar-870312113']"
      ]
     },
     "execution_count": 4,
     "metadata": {},
     "output_type": "execute_result"
    }
   ],
   "source": [
    "profile_links"
   ]
  },
  {
   "cell_type": "code",
   "execution_count": 5,
   "metadata": {},
   "outputs": [],
   "source": [
    "count = 53"
   ]
  },
  {
   "cell_type": "code",
   "execution_count": 6,
   "metadata": {
    "scrolled": false
   },
   "outputs": [
    {
     "ename": "WebDriverException",
     "evalue": "Message: unknown error: cannot determine loading status\nfrom disconnected: received Inspector.detached event\n  (Session info: chrome=83.0.4103.106)\n",
     "output_type": "error",
     "traceback": [
      "\u001b[0;31m---------------------------------------------------------------------------\u001b[0m",
      "\u001b[0;31mWebDriverException\u001b[0m                        Traceback (most recent call last)",
      "\u001b[0;32m<ipython-input-6-ceb0cf39400e>\u001b[0m in \u001b[0;36m<module>\u001b[0;34m\u001b[0m\n\u001b[1;32m      1\u001b[0m \u001b[0;32mfor\u001b[0m \u001b[0mi\u001b[0m \u001b[0;32min\u001b[0m \u001b[0mrange\u001b[0m\u001b[0;34m(\u001b[0m\u001b[0;36m0\u001b[0m\u001b[0;34m,\u001b[0m \u001b[0;36m100\u001b[0m\u001b[0;34m)\u001b[0m\u001b[0;34m:\u001b[0m\u001b[0;34m\u001b[0m\u001b[0;34m\u001b[0m\u001b[0m\n\u001b[1;32m      2\u001b[0m \u001b[0;31m#     profile_links = list(set(profile_links))\u001b[0m\u001b[0;34m\u001b[0m\u001b[0;34m\u001b[0m\u001b[0;34m\u001b[0m\u001b[0m\n\u001b[0;32m----> 3\u001b[0;31m     \u001b[0mdriver\u001b[0m\u001b[0;34m.\u001b[0m\u001b[0mget\u001b[0m\u001b[0;34m(\u001b[0m\u001b[0mprofile_links\u001b[0m\u001b[0;34m[\u001b[0m\u001b[0mcount\u001b[0m\u001b[0;34m]\u001b[0m\u001b[0;34m)\u001b[0m\u001b[0;34m\u001b[0m\u001b[0;34m\u001b[0m\u001b[0m\n\u001b[0m\u001b[1;32m      4\u001b[0m \u001b[0;31m#     try:\u001b[0m\u001b[0;34m\u001b[0m\u001b[0;34m\u001b[0m\u001b[0;34m\u001b[0m\u001b[0m\n\u001b[1;32m      5\u001b[0m \u001b[0;31m#         driver.find_element_by_id(\"details-button\").click()\u001b[0m\u001b[0;34m\u001b[0m\u001b[0;34m\u001b[0m\u001b[0;34m\u001b[0m\u001b[0m\n",
      "\u001b[0;32m~/.local/lib/python3.6/site-packages/selenium/webdriver/remote/webdriver.py\u001b[0m in \u001b[0;36mget\u001b[0;34m(self, url)\u001b[0m\n\u001b[1;32m    331\u001b[0m         \u001b[0mLoads\u001b[0m \u001b[0ma\u001b[0m \u001b[0mweb\u001b[0m \u001b[0mpage\u001b[0m \u001b[0;32min\u001b[0m \u001b[0mthe\u001b[0m \u001b[0mcurrent\u001b[0m \u001b[0mbrowser\u001b[0m \u001b[0msession\u001b[0m\u001b[0;34m.\u001b[0m\u001b[0;34m\u001b[0m\u001b[0;34m\u001b[0m\u001b[0m\n\u001b[1;32m    332\u001b[0m         \"\"\"\n\u001b[0;32m--> 333\u001b[0;31m         \u001b[0mself\u001b[0m\u001b[0;34m.\u001b[0m\u001b[0mexecute\u001b[0m\u001b[0;34m(\u001b[0m\u001b[0mCommand\u001b[0m\u001b[0;34m.\u001b[0m\u001b[0mGET\u001b[0m\u001b[0;34m,\u001b[0m \u001b[0;34m{\u001b[0m\u001b[0;34m'url'\u001b[0m\u001b[0;34m:\u001b[0m \u001b[0murl\u001b[0m\u001b[0;34m}\u001b[0m\u001b[0;34m)\u001b[0m\u001b[0;34m\u001b[0m\u001b[0;34m\u001b[0m\u001b[0m\n\u001b[0m\u001b[1;32m    334\u001b[0m \u001b[0;34m\u001b[0m\u001b[0m\n\u001b[1;32m    335\u001b[0m     \u001b[0;34m@\u001b[0m\u001b[0mproperty\u001b[0m\u001b[0;34m\u001b[0m\u001b[0;34m\u001b[0m\u001b[0m\n",
      "\u001b[0;32m~/.local/lib/python3.6/site-packages/selenium/webdriver/remote/webdriver.py\u001b[0m in \u001b[0;36mexecute\u001b[0;34m(self, driver_command, params)\u001b[0m\n\u001b[1;32m    319\u001b[0m         \u001b[0mresponse\u001b[0m \u001b[0;34m=\u001b[0m \u001b[0mself\u001b[0m\u001b[0;34m.\u001b[0m\u001b[0mcommand_executor\u001b[0m\u001b[0;34m.\u001b[0m\u001b[0mexecute\u001b[0m\u001b[0;34m(\u001b[0m\u001b[0mdriver_command\u001b[0m\u001b[0;34m,\u001b[0m \u001b[0mparams\u001b[0m\u001b[0;34m)\u001b[0m\u001b[0;34m\u001b[0m\u001b[0;34m\u001b[0m\u001b[0m\n\u001b[1;32m    320\u001b[0m         \u001b[0;32mif\u001b[0m \u001b[0mresponse\u001b[0m\u001b[0;34m:\u001b[0m\u001b[0;34m\u001b[0m\u001b[0;34m\u001b[0m\u001b[0m\n\u001b[0;32m--> 321\u001b[0;31m             \u001b[0mself\u001b[0m\u001b[0;34m.\u001b[0m\u001b[0merror_handler\u001b[0m\u001b[0;34m.\u001b[0m\u001b[0mcheck_response\u001b[0m\u001b[0;34m(\u001b[0m\u001b[0mresponse\u001b[0m\u001b[0;34m)\u001b[0m\u001b[0;34m\u001b[0m\u001b[0;34m\u001b[0m\u001b[0m\n\u001b[0m\u001b[1;32m    322\u001b[0m             response['value'] = self._unwrap_value(\n\u001b[1;32m    323\u001b[0m                 response.get('value', None))\n",
      "\u001b[0;32m~/.local/lib/python3.6/site-packages/selenium/webdriver/remote/errorhandler.py\u001b[0m in \u001b[0;36mcheck_response\u001b[0;34m(self, response)\u001b[0m\n\u001b[1;32m    240\u001b[0m                 \u001b[0malert_text\u001b[0m \u001b[0;34m=\u001b[0m \u001b[0mvalue\u001b[0m\u001b[0;34m[\u001b[0m\u001b[0;34m'alert'\u001b[0m\u001b[0;34m]\u001b[0m\u001b[0;34m.\u001b[0m\u001b[0mget\u001b[0m\u001b[0;34m(\u001b[0m\u001b[0;34m'text'\u001b[0m\u001b[0;34m)\u001b[0m\u001b[0;34m\u001b[0m\u001b[0;34m\u001b[0m\u001b[0m\n\u001b[1;32m    241\u001b[0m             \u001b[0;32mraise\u001b[0m \u001b[0mexception_class\u001b[0m\u001b[0;34m(\u001b[0m\u001b[0mmessage\u001b[0m\u001b[0;34m,\u001b[0m \u001b[0mscreen\u001b[0m\u001b[0;34m,\u001b[0m \u001b[0mstacktrace\u001b[0m\u001b[0;34m,\u001b[0m \u001b[0malert_text\u001b[0m\u001b[0;34m)\u001b[0m\u001b[0;34m\u001b[0m\u001b[0;34m\u001b[0m\u001b[0m\n\u001b[0;32m--> 242\u001b[0;31m         \u001b[0;32mraise\u001b[0m \u001b[0mexception_class\u001b[0m\u001b[0;34m(\u001b[0m\u001b[0mmessage\u001b[0m\u001b[0;34m,\u001b[0m \u001b[0mscreen\u001b[0m\u001b[0;34m,\u001b[0m \u001b[0mstacktrace\u001b[0m\u001b[0;34m)\u001b[0m\u001b[0;34m\u001b[0m\u001b[0;34m\u001b[0m\u001b[0m\n\u001b[0m\u001b[1;32m    243\u001b[0m \u001b[0;34m\u001b[0m\u001b[0m\n\u001b[1;32m    244\u001b[0m     \u001b[0;32mdef\u001b[0m \u001b[0m_value_or_default\u001b[0m\u001b[0;34m(\u001b[0m\u001b[0mself\u001b[0m\u001b[0;34m,\u001b[0m \u001b[0mobj\u001b[0m\u001b[0;34m,\u001b[0m \u001b[0mkey\u001b[0m\u001b[0;34m,\u001b[0m \u001b[0mdefault\u001b[0m\u001b[0;34m)\u001b[0m\u001b[0;34m:\u001b[0m\u001b[0;34m\u001b[0m\u001b[0;34m\u001b[0m\u001b[0m\n",
      "\u001b[0;31mWebDriverException\u001b[0m: Message: unknown error: cannot determine loading status\nfrom disconnected: received Inspector.detached event\n  (Session info: chrome=83.0.4103.106)\n"
     ]
    }
   ],
   "source": [
    "for i in range(0, 100):\n",
    "#     profile_links = list(set(profile_links))\n",
    "    driver.get(profile_links[count])\n",
    "#     try:\n",
    "#         driver.find_element_by_id(\"details-button\").click()\n",
    "#     except:\n",
    "#         x = x + 1\n",
    "    webpage = driver.page_source\n",
    "    soup = BeautifulSoup(webpage)\n",
    "    try:\n",
    "        x = soup.findAll(\"section\", {\"class\":\"browsemap right-rail-section\"})\n",
    "        for i in x[0].findAll(\"a\"):\n",
    "            if i not in profile_links:\n",
    "                profile_links.append(i.get(\"href\").split(\"?\")[0])\n",
    "        Html_file= open(\"Profiles/\"+str(count)+\".html\",\"w\")\n",
    "        Html_file.write(webpage)\n",
    "        Html_file.close()\n",
    "        count = count + 1\n",
    "        driver.close\n",
    "    except:\n",
    "        driver.quit()\n",
    "        \n",
    "#         time.sleep(2000)\n",
    "        \n",
    "        driver = webdriver.Chrome('/home/ritik/Desktop/extras/chromedriver')"
   ]
  },
  {
   "cell_type": "code",
   "execution_count": 48,
   "metadata": {},
   "outputs": [],
   "source": [
    "x = 0"
   ]
  },
  {
   "cell_type": "code",
   "execution_count": 47,
   "metadata": {
    "scrolled": true
   },
   "outputs": [
    {
     "name": "stderr",
     "output_type": "stream",
     "text": [
      "2020-06-23 00:02:12,609 selenium.webdriver.remote.remote_connection DEBUG    POST http://127.0.0.1:40291/session/5edddaa5b600d215b8742105f1c54efe/url {\"url\": \"https://www.linkedin.com/in/ratnopriya-chatterjee-5279a3159\"}\n",
      "2020-06-23 00:02:20,930 selenium.webdriver.remote.remote_connection DEBUG    Finished Request\n"
     ]
    }
   ],
   "source": [
    "driver.get(profile_links[37])"
   ]
  },
  {
   "cell_type": "code",
   "execution_count": 51,
   "metadata": {},
   "outputs": [
    {
     "name": "stderr",
     "output_type": "stream",
     "text": [
      "2020-06-23 00:08:54,793 selenium.webdriver.remote.remote_connection DEBUG    POST http://127.0.0.1:40291/session/5edddaa5b600d215b8742105f1c54efe/element {\"using\": \"css selector\", \"value\": \"[id=\\\"details-button\\\"]\"}\n",
      "2020-06-23 00:08:54,823 selenium.webdriver.remote.remote_connection DEBUG    Finished Request\n",
      "2020-06-23 00:08:54,824 selenium.webdriver.remote.remote_connection DEBUG    POST http://127.0.0.1:40291/session/5edddaa5b600d215b8742105f1c54efe/element/4e964a1b-b9bd-4618-a283-c9e53c8560de/click {\"id\": \"4e964a1b-b9bd-4618-a283-c9e53c8560de\"}\n",
      "2020-06-23 00:08:54,886 selenium.webdriver.remote.remote_connection DEBUG    Finished Request\n",
      "2020-06-23 00:08:54,888 selenium.webdriver.remote.remote_connection DEBUG    POST http://127.0.0.1:40291/session/5edddaa5b600d215b8742105f1c54efe/element {\"using\": \"css selector\", \"value\": \"[id=\\\"proceed-link\\\"]\"}\n",
      "2020-06-23 00:08:54,919 selenium.webdriver.remote.remote_connection DEBUG    Finished Request\n",
      "2020-06-23 00:08:54,924 selenium.webdriver.remote.remote_connection DEBUG    POST http://127.0.0.1:40291/session/5edddaa5b600d215b8742105f1c54efe/element/b1581537-d706-41c8-8a6c-6e3dbf6fbbc8/click {\"id\": \"b1581537-d706-41c8-8a6c-6e3dbf6fbbc8\"}\n",
      "2020-06-23 00:08:55,571 selenium.webdriver.remote.remote_connection DEBUG    Finished Request\n"
     ]
    }
   ],
   "source": [
    "driver.find_element_by_id(\"details-button\").click()\n",
    "\n",
    "driver.find_element_by_id(\"proceed-link\").click()"
   ]
  },
  {
   "cell_type": "code",
   "execution_count": null,
   "metadata": {},
   "outputs": [],
   "source": []
  },
  {
   "cell_type": "code",
   "execution_count": 12,
   "metadata": {},
   "outputs": [],
   "source": [
    "def get_clear_browsing_button(driver):\n",
    "    \"\"\"Find the \"CLEAR BROWSING BUTTON\" on the Chrome settings page.\"\"\"\n",
    "    return driver.find_element_by_css_selector('* /deep/ #clearBrowsingDataConfirm')\n",
    "\n",
    "\n",
    "def clear_cache(driver, timeout=60):\n",
    "    \"\"\"Clear the cookies and cache for the ChromeDriver instance.\"\"\"\n",
    "    # navigate to the settings page\n",
    "    driver.get('chrome://settings/clearBrowserData')\n",
    "\n",
    "    # wait for the button to appear\n",
    "    wait = WebDriverWait(driver, timeout)\n",
    "    wait.until(get_clear_browsing_button)\n",
    "\n",
    "    # click the button to clear the cache\n",
    "    get_clear_browsing_button(driver).click()\n",
    "    \n",
    "    # wait for the button to be gone before returning\n",
    "    wait.until_not(get_clear_browsing_button)\n",
    "    "
   ]
  },
  {
   "cell_type": "code",
   "execution_count": null,
   "metadata": {},
   "outputs": [],
   "source": []
  },
  {
   "cell_type": "code",
   "execution_count": null,
   "metadata": {},
   "outputs": [],
   "source": []
  },
  {
   "cell_type": "code",
   "execution_count": null,
   "metadata": {},
   "outputs": [],
   "source": []
  },
  {
   "cell_type": "code",
   "execution_count": null,
   "metadata": {},
   "outputs": [],
   "source": []
  },
  {
   "cell_type": "code",
   "execution_count": null,
   "metadata": {},
   "outputs": [],
   "source": []
  },
  {
   "cell_type": "code",
   "execution_count": null,
   "metadata": {},
   "outputs": [],
   "source": []
  },
  {
   "cell_type": "code",
   "execution_count": null,
   "metadata": {},
   "outputs": [],
   "source": []
  },
  {
   "cell_type": "code",
   "execution_count": null,
   "metadata": {},
   "outputs": [],
   "source": []
  },
  {
   "cell_type": "code",
   "execution_count": null,
   "metadata": {},
   "outputs": [],
   "source": []
  },
  {
   "cell_type": "code",
   "execution_count": null,
   "metadata": {},
   "outputs": [],
   "source": []
  },
  {
   "cell_type": "code",
   "execution_count": null,
   "metadata": {},
   "outputs": [],
   "source": []
  },
  {
   "cell_type": "code",
   "execution_count": 39,
   "metadata": {},
   "outputs": [
    {
     "ename": "SyntaxError",
     "evalue": "invalid syntax (<ipython-input-39-b8eac0f859a8>, line 1)",
     "output_type": "error",
     "traceback": [
      "\u001b[0;36m  File \u001b[0;32m\"<ipython-input-39-b8eac0f859a8>\"\u001b[0;36m, line \u001b[0;32m1\u001b[0m\n\u001b[0;31m    pip3 install http-request-randomizer\u001b[0m\n\u001b[0m               ^\u001b[0m\n\u001b[0;31mSyntaxError\u001b[0m\u001b[0;31m:\u001b[0m invalid syntax\n"
     ]
    }
   ],
   "source": [
    "pip3 install http-request-randomizer"
   ]
  },
  {
   "cell_type": "code",
   "execution_count": null,
   "metadata": {},
   "outputs": [],
   "source": []
  },
  {
   "cell_type": "code",
   "execution_count": null,
   "metadata": {},
   "outputs": [],
   "source": []
  },
  {
   "cell_type": "code",
   "execution_count": null,
   "metadata": {},
   "outputs": [],
   "source": []
  },
  {
   "cell_type": "code",
   "execution_count": null,
   "metadata": {},
   "outputs": [],
   "source": []
  },
  {
   "cell_type": "code",
   "execution_count": null,
   "metadata": {},
   "outputs": [],
   "source": []
  },
  {
   "cell_type": "code",
   "execution_count": null,
   "metadata": {},
   "outputs": [],
   "source": []
  },
  {
   "cell_type": "code",
   "execution_count": null,
   "metadata": {},
   "outputs": [],
   "source": []
  },
  {
   "cell_type": "code",
   "execution_count": null,
   "metadata": {},
   "outputs": [],
   "source": []
  },
  {
   "cell_type": "code",
   "execution_count": null,
   "metadata": {},
   "outputs": [],
   "source": []
  },
  {
   "cell_type": "code",
   "execution_count": null,
   "metadata": {},
   "outputs": [],
   "source": []
  },
  {
   "cell_type": "code",
   "execution_count": null,
   "metadata": {},
   "outputs": [],
   "source": []
  },
  {
   "cell_type": "code",
   "execution_count": null,
   "metadata": {},
   "outputs": [],
   "source": []
  },
  {
   "cell_type": "code",
   "execution_count": null,
   "metadata": {},
   "outputs": [],
   "source": []
  },
  {
   "cell_type": "code",
   "execution_count": null,
   "metadata": {},
   "outputs": [],
   "source": []
  },
  {
   "cell_type": "code",
   "execution_count": null,
   "metadata": {},
   "outputs": [],
   "source": []
  },
  {
   "cell_type": "code",
   "execution_count": null,
   "metadata": {},
   "outputs": [],
   "source": []
  },
  {
   "cell_type": "code",
   "execution_count": null,
   "metadata": {},
   "outputs": [],
   "source": []
  },
  {
   "cell_type": "code",
   "execution_count": null,
   "metadata": {},
   "outputs": [],
   "source": []
  },
  {
   "cell_type": "code",
   "execution_count": null,
   "metadata": {},
   "outputs": [],
   "source": []
  },
  {
   "cell_type": "code",
   "execution_count": null,
   "metadata": {},
   "outputs": [],
   "source": []
  },
  {
   "cell_type": "code",
   "execution_count": null,
   "metadata": {},
   "outputs": [],
   "source": []
  },
  {
   "cell_type": "code",
   "execution_count": null,
   "metadata": {},
   "outputs": [],
   "source": []
  },
  {
   "cell_type": "code",
   "execution_count": null,
   "metadata": {},
   "outputs": [],
   "source": []
  },
  {
   "cell_type": "code",
   "execution_count": null,
   "metadata": {},
   "outputs": [],
   "source": []
  },
  {
   "cell_type": "code",
   "execution_count": null,
   "metadata": {},
   "outputs": [],
   "source": []
  },
  {
   "cell_type": "code",
   "execution_count": null,
   "metadata": {},
   "outputs": [],
   "source": []
  },
  {
   "cell_type": "code",
   "execution_count": null,
   "metadata": {},
   "outputs": [],
   "source": []
  },
  {
   "cell_type": "code",
   "execution_count": null,
   "metadata": {},
   "outputs": [],
   "source": []
  },
  {
   "cell_type": "code",
   "execution_count": null,
   "metadata": {},
   "outputs": [],
   "source": []
  },
  {
   "cell_type": "code",
   "execution_count": null,
   "metadata": {},
   "outputs": [],
   "source": []
  },
  {
   "cell_type": "code",
   "execution_count": null,
   "metadata": {},
   "outputs": [],
   "source": []
  },
  {
   "cell_type": "code",
   "execution_count": null,
   "metadata": {},
   "outputs": [],
   "source": []
  },
  {
   "cell_type": "code",
   "execution_count": null,
   "metadata": {},
   "outputs": [],
   "source": []
  },
  {
   "cell_type": "code",
   "execution_count": null,
   "metadata": {},
   "outputs": [],
   "source": []
  },
  {
   "cell_type": "code",
   "execution_count": null,
   "metadata": {},
   "outputs": [],
   "source": []
  },
  {
   "cell_type": "code",
   "execution_count": null,
   "metadata": {},
   "outputs": [],
   "source": []
  },
  {
   "cell_type": "code",
   "execution_count": null,
   "metadata": {},
   "outputs": [],
   "source": []
  },
  {
   "cell_type": "code",
   "execution_count": null,
   "metadata": {},
   "outputs": [],
   "source": []
  },
  {
   "cell_type": "code",
   "execution_count": null,
   "metadata": {},
   "outputs": [],
   "source": []
  },
  {
   "cell_type": "code",
   "execution_count": null,
   "metadata": {},
   "outputs": [],
   "source": []
  },
  {
   "cell_type": "code",
   "execution_count": null,
   "metadata": {},
   "outputs": [],
   "source": []
  },
  {
   "cell_type": "code",
   "execution_count": null,
   "metadata": {},
   "outputs": [],
   "source": []
  },
  {
   "cell_type": "code",
   "execution_count": null,
   "metadata": {},
   "outputs": [],
   "source": []
  },
  {
   "cell_type": "code",
   "execution_count": null,
   "metadata": {},
   "outputs": [],
   "source": []
  },
  {
   "cell_type": "code",
   "execution_count": null,
   "metadata": {},
   "outputs": [],
   "source": []
  },
  {
   "cell_type": "code",
   "execution_count": null,
   "metadata": {},
   "outputs": [],
   "source": []
  },
  {
   "cell_type": "code",
   "execution_count": null,
   "metadata": {},
   "outputs": [],
   "source": []
  },
  {
   "cell_type": "code",
   "execution_count": null,
   "metadata": {},
   "outputs": [],
   "source": []
  },
  {
   "cell_type": "code",
   "execution_count": null,
   "metadata": {},
   "outputs": [],
   "source": []
  },
  {
   "cell_type": "code",
   "execution_count": null,
   "metadata": {},
   "outputs": [],
   "source": []
  },
  {
   "cell_type": "code",
   "execution_count": null,
   "metadata": {},
   "outputs": [],
   "source": []
  },
  {
   "cell_type": "code",
   "execution_count": null,
   "metadata": {},
   "outputs": [],
   "source": []
  },
  {
   "cell_type": "code",
   "execution_count": null,
   "metadata": {},
   "outputs": [],
   "source": []
  },
  {
   "cell_type": "code",
   "execution_count": null,
   "metadata": {},
   "outputs": [],
   "source": []
  },
  {
   "cell_type": "code",
   "execution_count": null,
   "metadata": {},
   "outputs": [],
   "source": []
  },
  {
   "cell_type": "code",
   "execution_count": null,
   "metadata": {},
   "outputs": [],
   "source": []
  },
  {
   "cell_type": "code",
   "execution_count": null,
   "metadata": {},
   "outputs": [],
   "source": []
  },
  {
   "cell_type": "code",
   "execution_count": null,
   "metadata": {},
   "outputs": [],
   "source": []
  },
  {
   "cell_type": "code",
   "execution_count": null,
   "metadata": {},
   "outputs": [],
   "source": []
  },
  {
   "cell_type": "code",
   "execution_count": null,
   "metadata": {},
   "outputs": [],
   "source": []
  },
  {
   "cell_type": "code",
   "execution_count": null,
   "metadata": {},
   "outputs": [],
   "source": []
  },
  {
   "cell_type": "code",
   "execution_count": null,
   "metadata": {},
   "outputs": [],
   "source": []
  },
  {
   "cell_type": "code",
   "execution_count": null,
   "metadata": {},
   "outputs": [],
   "source": []
  },
  {
   "cell_type": "code",
   "execution_count": null,
   "metadata": {},
   "outputs": [],
   "source": []
  },
  {
   "cell_type": "code",
   "execution_count": null,
   "metadata": {},
   "outputs": [],
   "source": []
  },
  {
   "cell_type": "code",
   "execution_count": null,
   "metadata": {},
   "outputs": [],
   "source": []
  },
  {
   "cell_type": "code",
   "execution_count": null,
   "metadata": {},
   "outputs": [],
   "source": []
  },
  {
   "cell_type": "code",
   "execution_count": null,
   "metadata": {},
   "outputs": [],
   "source": []
  },
  {
   "cell_type": "code",
   "execution_count": null,
   "metadata": {},
   "outputs": [],
   "source": []
  },
  {
   "cell_type": "code",
   "execution_count": null,
   "metadata": {},
   "outputs": [],
   "source": []
  },
  {
   "cell_type": "code",
   "execution_count": null,
   "metadata": {},
   "outputs": [],
   "source": []
  },
  {
   "cell_type": "code",
   "execution_count": null,
   "metadata": {},
   "outputs": [],
   "source": []
  },
  {
   "cell_type": "code",
   "execution_count": null,
   "metadata": {},
   "outputs": [],
   "source": []
  },
  {
   "cell_type": "code",
   "execution_count": null,
   "metadata": {},
   "outputs": [],
   "source": []
  },
  {
   "cell_type": "code",
   "execution_count": null,
   "metadata": {},
   "outputs": [],
   "source": []
  },
  {
   "cell_type": "code",
   "execution_count": null,
   "metadata": {},
   "outputs": [],
   "source": []
  },
  {
   "cell_type": "code",
   "execution_count": null,
   "metadata": {},
   "outputs": [],
   "source": []
  },
  {
   "cell_type": "code",
   "execution_count": null,
   "metadata": {},
   "outputs": [],
   "source": []
  },
  {
   "cell_type": "code",
   "execution_count": null,
   "metadata": {},
   "outputs": [],
   "source": []
  },
  {
   "cell_type": "code",
   "execution_count": null,
   "metadata": {},
   "outputs": [],
   "source": []
  },
  {
   "cell_type": "code",
   "execution_count": null,
   "metadata": {},
   "outputs": [],
   "source": []
  },
  {
   "cell_type": "code",
   "execution_count": null,
   "metadata": {},
   "outputs": [],
   "source": []
  },
  {
   "cell_type": "code",
   "execution_count": null,
   "metadata": {},
   "outputs": [],
   "source": []
  },
  {
   "cell_type": "code",
   "execution_count": null,
   "metadata": {},
   "outputs": [],
   "source": []
  },
  {
   "cell_type": "code",
   "execution_count": null,
   "metadata": {},
   "outputs": [],
   "source": []
  },
  {
   "cell_type": "code",
   "execution_count": null,
   "metadata": {},
   "outputs": [],
   "source": []
  },
  {
   "cell_type": "code",
   "execution_count": null,
   "metadata": {},
   "outputs": [],
   "source": []
  },
  {
   "cell_type": "code",
   "execution_count": null,
   "metadata": {},
   "outputs": [],
   "source": []
  },
  {
   "cell_type": "code",
   "execution_count": null,
   "metadata": {},
   "outputs": [],
   "source": []
  },
  {
   "cell_type": "code",
   "execution_count": null,
   "metadata": {},
   "outputs": [],
   "source": []
  },
  {
   "cell_type": "code",
   "execution_count": null,
   "metadata": {},
   "outputs": [],
   "source": []
  },
  {
   "cell_type": "code",
   "execution_count": null,
   "metadata": {},
   "outputs": [],
   "source": []
  },
  {
   "cell_type": "code",
   "execution_count": null,
   "metadata": {},
   "outputs": [],
   "source": []
  },
  {
   "cell_type": "code",
   "execution_count": null,
   "metadata": {},
   "outputs": [],
   "source": []
  },
  {
   "cell_type": "code",
   "execution_count": null,
   "metadata": {},
   "outputs": [],
   "source": []
  },
  {
   "cell_type": "code",
   "execution_count": null,
   "metadata": {},
   "outputs": [],
   "source": []
  },
  {
   "cell_type": "code",
   "execution_count": null,
   "metadata": {},
   "outputs": [],
   "source": []
  },
  {
   "cell_type": "code",
   "execution_count": null,
   "metadata": {},
   "outputs": [],
   "source": []
  },
  {
   "cell_type": "code",
   "execution_count": null,
   "metadata": {},
   "outputs": [],
   "source": []
  },
  {
   "cell_type": "code",
   "execution_count": null,
   "metadata": {},
   "outputs": [],
   "source": []
  },
  {
   "cell_type": "code",
   "execution_count": null,
   "metadata": {},
   "outputs": [],
   "source": []
  },
  {
   "cell_type": "code",
   "execution_count": null,
   "metadata": {},
   "outputs": [],
   "source": []
  },
  {
   "cell_type": "code",
   "execution_count": null,
   "metadata": {},
   "outputs": [],
   "source": []
  },
  {
   "cell_type": "code",
   "execution_count": null,
   "metadata": {},
   "outputs": [],
   "source": []
  },
  {
   "cell_type": "code",
   "execution_count": null,
   "metadata": {},
   "outputs": [],
   "source": []
  },
  {
   "cell_type": "code",
   "execution_count": null,
   "metadata": {},
   "outputs": [],
   "source": []
  },
  {
   "cell_type": "code",
   "execution_count": null,
   "metadata": {},
   "outputs": [],
   "source": []
  },
  {
   "cell_type": "code",
   "execution_count": null,
   "metadata": {},
   "outputs": [],
   "source": []
  },
  {
   "cell_type": "code",
   "execution_count": null,
   "metadata": {},
   "outputs": [],
   "source": []
  },
  {
   "cell_type": "code",
   "execution_count": null,
   "metadata": {},
   "outputs": [],
   "source": []
  },
  {
   "cell_type": "code",
   "execution_count": null,
   "metadata": {},
   "outputs": [],
   "source": []
  },
  {
   "cell_type": "code",
   "execution_count": null,
   "metadata": {},
   "outputs": [],
   "source": []
  },
  {
   "cell_type": "code",
   "execution_count": null,
   "metadata": {},
   "outputs": [],
   "source": []
  },
  {
   "cell_type": "code",
   "execution_count": null,
   "metadata": {},
   "outputs": [],
   "source": []
  },
  {
   "cell_type": "code",
   "execution_count": null,
   "metadata": {},
   "outputs": [],
   "source": []
  },
  {
   "cell_type": "code",
   "execution_count": null,
   "metadata": {},
   "outputs": [],
   "source": []
  },
  {
   "cell_type": "code",
   "execution_count": null,
   "metadata": {},
   "outputs": [],
   "source": []
  },
  {
   "cell_type": "code",
   "execution_count": null,
   "metadata": {},
   "outputs": [],
   "source": []
  },
  {
   "cell_type": "code",
   "execution_count": null,
   "metadata": {},
   "outputs": [],
   "source": []
  },
  {
   "cell_type": "code",
   "execution_count": null,
   "metadata": {},
   "outputs": [],
   "source": []
  },
  {
   "cell_type": "code",
   "execution_count": null,
   "metadata": {},
   "outputs": [],
   "source": []
  },
  {
   "cell_type": "code",
   "execution_count": null,
   "metadata": {},
   "outputs": [],
   "source": []
  },
  {
   "cell_type": "code",
   "execution_count": null,
   "metadata": {},
   "outputs": [],
   "source": []
  },
  {
   "cell_type": "code",
   "execution_count": null,
   "metadata": {},
   "outputs": [],
   "source": []
  },
  {
   "cell_type": "code",
   "execution_count": null,
   "metadata": {},
   "outputs": [],
   "source": []
  },
  {
   "cell_type": "code",
   "execution_count": null,
   "metadata": {},
   "outputs": [],
   "source": []
  },
  {
   "cell_type": "code",
   "execution_count": null,
   "metadata": {},
   "outputs": [],
   "source": []
  },
  {
   "cell_type": "code",
   "execution_count": null,
   "metadata": {},
   "outputs": [],
   "source": []
  },
  {
   "cell_type": "code",
   "execution_count": null,
   "metadata": {},
   "outputs": [],
   "source": []
  },
  {
   "cell_type": "code",
   "execution_count": null,
   "metadata": {},
   "outputs": [],
   "source": []
  },
  {
   "cell_type": "code",
   "execution_count": null,
   "metadata": {},
   "outputs": [],
   "source": []
  },
  {
   "cell_type": "code",
   "execution_count": null,
   "metadata": {},
   "outputs": [],
   "source": []
  },
  {
   "cell_type": "code",
   "execution_count": null,
   "metadata": {},
   "outputs": [],
   "source": []
  },
  {
   "cell_type": "code",
   "execution_count": null,
   "metadata": {},
   "outputs": [],
   "source": []
  },
  {
   "cell_type": "code",
   "execution_count": null,
   "metadata": {},
   "outputs": [],
   "source": []
  },
  {
   "cell_type": "code",
   "execution_count": null,
   "metadata": {},
   "outputs": [],
   "source": []
  },
  {
   "cell_type": "code",
   "execution_count": null,
   "metadata": {},
   "outputs": [],
   "source": []
  },
  {
   "cell_type": "code",
   "execution_count": null,
   "metadata": {},
   "outputs": [],
   "source": []
  },
  {
   "cell_type": "code",
   "execution_count": null,
   "metadata": {},
   "outputs": [],
   "source": []
  },
  {
   "cell_type": "code",
   "execution_count": null,
   "metadata": {},
   "outputs": [],
   "source": []
  },
  {
   "cell_type": "code",
   "execution_count": null,
   "metadata": {},
   "outputs": [],
   "source": []
  },
  {
   "cell_type": "code",
   "execution_count": null,
   "metadata": {},
   "outputs": [],
   "source": []
  },
  {
   "cell_type": "code",
   "execution_count": null,
   "metadata": {},
   "outputs": [],
   "source": []
  },
  {
   "cell_type": "code",
   "execution_count": null,
   "metadata": {},
   "outputs": [],
   "source": []
  },
  {
   "cell_type": "code",
   "execution_count": null,
   "metadata": {},
   "outputs": [],
   "source": []
  },
  {
   "cell_type": "code",
   "execution_count": null,
   "metadata": {},
   "outputs": [],
   "source": []
  },
  {
   "cell_type": "code",
   "execution_count": null,
   "metadata": {},
   "outputs": [],
   "source": []
  },
  {
   "cell_type": "code",
   "execution_count": null,
   "metadata": {},
   "outputs": [],
   "source": []
  },
  {
   "cell_type": "code",
   "execution_count": null,
   "metadata": {},
   "outputs": [],
   "source": []
  },
  {
   "cell_type": "code",
   "execution_count": null,
   "metadata": {},
   "outputs": [],
   "source": []
  },
  {
   "cell_type": "code",
   "execution_count": null,
   "metadata": {},
   "outputs": [],
   "source": []
  },
  {
   "cell_type": "code",
   "execution_count": null,
   "metadata": {},
   "outputs": [],
   "source": []
  },
  {
   "cell_type": "code",
   "execution_count": null,
   "metadata": {},
   "outputs": [],
   "source": []
  },
  {
   "cell_type": "code",
   "execution_count": null,
   "metadata": {},
   "outputs": [],
   "source": []
  },
  {
   "cell_type": "code",
   "execution_count": null,
   "metadata": {},
   "outputs": [],
   "source": []
  },
  {
   "cell_type": "code",
   "execution_count": null,
   "metadata": {},
   "outputs": [],
   "source": []
  },
  {
   "cell_type": "code",
   "execution_count": null,
   "metadata": {},
   "outputs": [],
   "source": []
  },
  {
   "cell_type": "code",
   "execution_count": null,
   "metadata": {},
   "outputs": [],
   "source": []
  },
  {
   "cell_type": "code",
   "execution_count": null,
   "metadata": {},
   "outputs": [],
   "source": []
  },
  {
   "cell_type": "code",
   "execution_count": null,
   "metadata": {},
   "outputs": [],
   "source": []
  },
  {
   "cell_type": "code",
   "execution_count": null,
   "metadata": {},
   "outputs": [],
   "source": []
  },
  {
   "cell_type": "code",
   "execution_count": null,
   "metadata": {},
   "outputs": [],
   "source": []
  },
  {
   "cell_type": "code",
   "execution_count": null,
   "metadata": {},
   "outputs": [],
   "source": []
  },
  {
   "cell_type": "code",
   "execution_count": null,
   "metadata": {},
   "outputs": [],
   "source": []
  },
  {
   "cell_type": "code",
   "execution_count": null,
   "metadata": {},
   "outputs": [],
   "source": []
  },
  {
   "cell_type": "code",
   "execution_count": null,
   "metadata": {},
   "outputs": [],
   "source": []
  },
  {
   "cell_type": "code",
   "execution_count": null,
   "metadata": {},
   "outputs": [],
   "source": []
  },
  {
   "cell_type": "code",
   "execution_count": null,
   "metadata": {},
   "outputs": [],
   "source": []
  },
  {
   "cell_type": "code",
   "execution_count": null,
   "metadata": {},
   "outputs": [],
   "source": []
  },
  {
   "cell_type": "code",
   "execution_count": null,
   "metadata": {},
   "outputs": [],
   "source": []
  },
  {
   "cell_type": "code",
   "execution_count": null,
   "metadata": {},
   "outputs": [],
   "source": []
  },
  {
   "cell_type": "code",
   "execution_count": null,
   "metadata": {},
   "outputs": [],
   "source": []
  },
  {
   "cell_type": "code",
   "execution_count": null,
   "metadata": {},
   "outputs": [],
   "source": []
  },
  {
   "cell_type": "code",
   "execution_count": null,
   "metadata": {},
   "outputs": [],
   "source": []
  },
  {
   "cell_type": "code",
   "execution_count": null,
   "metadata": {},
   "outputs": [],
   "source": []
  },
  {
   "cell_type": "code",
   "execution_count": null,
   "metadata": {},
   "outputs": [],
   "source": []
  },
  {
   "cell_type": "code",
   "execution_count": null,
   "metadata": {},
   "outputs": [],
   "source": []
  },
  {
   "cell_type": "code",
   "execution_count": null,
   "metadata": {},
   "outputs": [],
   "source": []
  },
  {
   "cell_type": "code",
   "execution_count": null,
   "metadata": {},
   "outputs": [],
   "source": []
  },
  {
   "cell_type": "code",
   "execution_count": null,
   "metadata": {},
   "outputs": [],
   "source": []
  },
  {
   "cell_type": "code",
   "execution_count": null,
   "metadata": {},
   "outputs": [],
   "source": []
  },
  {
   "cell_type": "code",
   "execution_count": null,
   "metadata": {},
   "outputs": [],
   "source": []
  },
  {
   "cell_type": "code",
   "execution_count": null,
   "metadata": {},
   "outputs": [],
   "source": []
  },
  {
   "cell_type": "code",
   "execution_count": null,
   "metadata": {},
   "outputs": [],
   "source": []
  },
  {
   "cell_type": "code",
   "execution_count": null,
   "metadata": {},
   "outputs": [],
   "source": []
  },
  {
   "cell_type": "code",
   "execution_count": null,
   "metadata": {},
   "outputs": [],
   "source": []
  },
  {
   "cell_type": "code",
   "execution_count": null,
   "metadata": {},
   "outputs": [],
   "source": []
  },
  {
   "cell_type": "code",
   "execution_count": null,
   "metadata": {},
   "outputs": [],
   "source": []
  },
  {
   "cell_type": "code",
   "execution_count": null,
   "metadata": {},
   "outputs": [],
   "source": []
  },
  {
   "cell_type": "code",
   "execution_count": null,
   "metadata": {},
   "outputs": [],
   "source": []
  },
  {
   "cell_type": "code",
   "execution_count": null,
   "metadata": {},
   "outputs": [],
   "source": []
  },
  {
   "cell_type": "code",
   "execution_count": 15,
   "metadata": {},
   "outputs": [],
   "source": [
    "driver.get(\"https://www.linkedin.com/in/kunal-gohrani/\")"
   ]
  },
  {
   "cell_type": "code",
   "execution_count": 23,
   "metadata": {},
   "outputs": [],
   "source": [
    "webpage = driver.page_source"
   ]
  },
  {
   "cell_type": "code",
   "execution_count": 24,
   "metadata": {},
   "outputs": [],
   "source": [
    "soup = BeautifulSoup(webpage)"
   ]
  },
  {
   "cell_type": "code",
   "execution_count": 33,
   "metadata": {},
   "outputs": [],
   "source": [
    "x = soup.findAll(\"section\", {\"class\":\"browsemap right-rail-section\"})"
   ]
  },
  {
   "cell_type": "code",
   "execution_count": 34,
   "metadata": {},
   "outputs": [
    {
     "data": {
      "text/plain": [
       "[<section class=\"browsemap right-rail-section\"><header class=\"browsemap__header right-rail-section__header\"><h3 class=\"browsemap__heading right-rail-section__heading\">People also viewed</h3></header><div class=\"show-more-less\"><ul class=\"show-more-less__list show-more-less__list--hide-after-10 show-more-less__list--hide-after-10-with-animations\" data-impression-id=\"public_profile_browsemap_show-more-less\" data-max-num-to-show=\"10\"><li class=\"result-card profile-result-card\"><a class=\"result-card__full-card-link\" data-tracking-control-name=\"public_profile_browsemap_profile-result-card_result-card_full-click\" data-tracking-will-navigate=\"\" href=\"https://www.linkedin.com/in/ritashri-mishra-aa114814b?trk=public_profile_browsemap_profile-result-card_result-card_full-click\"><span class=\"screen-reader-text\">Ritashri Mishra</span></a><img alt=\"Ritashri Mishra\" aria-hidden=\"true\" class=\"artdeco-entity-image profile-result-card artdeco-entity-image--profile profile-result-card--profile artdeco-entity-image--circle-4 profile-result-card--circle-4 result-card__image lazy-loaded\" data-ghost-classes=\"artdeco-entity-image--ghost profile-result-card--ghost artdeco-entity-image--ghost-profile profile-result-card--ghost-profile\" data-ghost-url=\"https://static-exp1.licdn.com/sc/h/djzv59yelk5urv2ujlazfyvrk\" src=\"https://media-exp1.licdn.com/dms/image/C5603AQH2VVEPphT4Pw/profile-displayphoto-shrink_100_100/0?e=1598486400&amp;v=beta&amp;t=wUfHWOtgU9yjugKIwTmwpmtcJFaMv_lCmxwtNw84qqU\"/><div class=\"result-card__contents profile-result-card__contents\"><h3 class=\"result-card__title profile-result-card__title\">Ritashri Mishra</h3><h4 class=\"result-card__subtitle profile-result-card__subtitle\">Student at Amity University Kolkata</h4><div class=\"result-card__meta profile-result-card__meta\"><p class=\"profile-result-card__location\"></p></div></div></li><li class=\"result-card profile-result-card\"><a class=\"result-card__full-card-link\" data-tracking-control-name=\"public_profile_browsemap_profile-result-card_result-card_full-click\" data-tracking-will-navigate=\"\" href=\"https://www.linkedin.com/in/ujjaineede?trk=public_profile_browsemap_profile-result-card_result-card_full-click\"><span class=\"screen-reader-text\">Ujjainee De</span></a><img alt=\"Ujjainee De\" aria-hidden=\"true\" class=\"artdeco-entity-image profile-result-card artdeco-entity-image--profile profile-result-card--profile artdeco-entity-image--circle-4 profile-result-card--circle-4 result-card__image lazy-loaded\" data-ghost-classes=\"artdeco-entity-image--ghost profile-result-card--ghost artdeco-entity-image--ghost-profile profile-result-card--ghost-profile\" data-ghost-url=\"https://static-exp1.licdn.com/sc/h/djzv59yelk5urv2ujlazfyvrk\" src=\"https://media-exp1.licdn.com/dms/image/C5103AQFQFNhvXuVCGg/profile-displayphoto-shrink_100_100/0?e=1598486400&amp;v=beta&amp;t=fL5EJNOv93jBd4zRtsSBzseF8lVyI-rUg0IcGDTT_p0\"/><div class=\"result-card__contents profile-result-card__contents\"><h3 class=\"result-card__title profile-result-card__title\">Ujjainee De</h3><h4 class=\"result-card__subtitle profile-result-card__subtitle\">Data Science Intern at Mywbut.com|| Data Science enthusiast|| B.Tech: Computer Science and Engineering|| Graduating 2021</h4><div class=\"result-card__meta profile-result-card__meta\"><p class=\"profile-result-card__location\"></p></div></div></li><li class=\"result-card profile-result-card\"><a class=\"result-card__full-card-link\" data-tracking-control-name=\"public_profile_browsemap_profile-result-card_result-card_full-click\" data-tracking-will-navigate=\"\" href=\"https://www.linkedin.com/in/sudeshna-pahari-44592416?trk=public_profile_browsemap_profile-result-card_result-card_full-click\"><span class=\"screen-reader-text\">Sudeshna Pahari</span></a><img alt=\"Sudeshna Pahari\" aria-hidden=\"true\" class=\"artdeco-entity-image profile-result-card artdeco-entity-image--profile profile-result-card--profile artdeco-entity-image--circle-4 profile-result-card--circle-4 result-card__image lazy-loaded\" data-ghost-classes=\"artdeco-entity-image--ghost profile-result-card--ghost artdeco-entity-image--ghost-profile profile-result-card--ghost-profile\" data-ghost-url=\"https://static-exp1.licdn.com/sc/h/djzv59yelk5urv2ujlazfyvrk\" src=\"https://media-exp1.licdn.com/dms/image/C4D03AQFMW8N3w60oeg/profile-displayphoto-shrink_100_100/0?e=1598486400&amp;v=beta&amp;t=bZOVxmw2mKf_UUyLAeUN3zuc1He7-7QDt4Ai8kgx0lc\"/><div class=\"result-card__contents profile-result-card__contents\"><h3 class=\"result-card__title profile-result-card__title\">Sudeshna Pahari</h3><h4 class=\"result-card__subtitle profile-result-card__subtitle\">Amity Kolkata</h4><div class=\"result-card__meta profile-result-card__meta\"><p class=\"profile-result-card__location\"></p></div></div></li><li class=\"result-card profile-result-card\"><a class=\"result-card__full-card-link\" data-tracking-control-name=\"public_profile_browsemap_profile-result-card_result-card_full-click\" data-tracking-will-navigate=\"\" href=\"https://www.linkedin.com/in/arpita-halder-8718b413b?trk=public_profile_browsemap_profile-result-card_result-card_full-click\"><span class=\"screen-reader-text\">Arpita Halder</span></a><img alt=\"Arpita Halder\" aria-hidden=\"true\" class=\"artdeco-entity-image profile-result-card artdeco-entity-image--profile profile-result-card--profile artdeco-entity-image--circle-4 profile-result-card--circle-4 result-card__image lazy-loaded\" data-ghost-classes=\"artdeco-entity-image--ghost profile-result-card--ghost artdeco-entity-image--ghost-profile profile-result-card--ghost-profile\" data-ghost-url=\"https://static-exp1.licdn.com/sc/h/djzv59yelk5urv2ujlazfyvrk\" src=\"https://media-exp1.licdn.com/dms/image/C5603AQEJf4FsXx_zwQ/profile-displayphoto-shrink_100_100/0?e=1598486400&amp;v=beta&amp;t=ZW8ZB0862q99CtKTvg9N_vO_Ks7Ssr4sjUdLHbUigPA\"/><div class=\"result-card__contents profile-result-card__contents\"><h3 class=\"result-card__title profile-result-card__title\">Arpita Halder</h3><h4 class=\"result-card__subtitle profile-result-card__subtitle\">Summer Research Intern at Indian Institute of Technology (Banaras Hindu University), Varanasi</h4><div class=\"result-card__meta profile-result-card__meta\"><p class=\"profile-result-card__location\"></p></div></div></li><li class=\"result-card profile-result-card\"><a class=\"result-card__full-card-link\" data-tracking-control-name=\"public_profile_browsemap_profile-result-card_result-card_full-click\" data-tracking-will-navigate=\"\" href=\"https://www.linkedin.com/in/priscila-tamang-ghising-a703b1174?trk=public_profile_browsemap_profile-result-card_result-card_full-click\"><span class=\"screen-reader-text\">Priscila Tamang Ghising</span></a><img alt=\"Priscila Tamang Ghising\" aria-hidden=\"true\" class=\"artdeco-entity-image profile-result-card artdeco-entity-image--profile profile-result-card--profile artdeco-entity-image--circle-4 profile-result-card--circle-4 result-card__image lazy-loaded\" data-ghost-classes=\"artdeco-entity-image--ghost profile-result-card--ghost artdeco-entity-image--ghost-profile profile-result-card--ghost-profile\" data-ghost-url=\"https://static-exp1.licdn.com/sc/h/djzv59yelk5urv2ujlazfyvrk\" src=\"https://media-exp1.licdn.com/dms/image/C5103AQHjfNh6PfcOXQ/profile-displayphoto-shrink_100_100/0?e=1598486400&amp;v=beta&amp;t=blzq5sBNMZWzDckx7FCvXEhRQsWk7skJrFOAPz677ZA\"/><div class=\"result-card__contents profile-result-card__contents\"><h3 class=\"result-card__title profile-result-card__title\">Priscila Tamang Ghising</h3><h4 class=\"result-card__subtitle profile-result-card__subtitle\">Computer Science student at Amity University, Kolkata</h4><div class=\"result-card__meta profile-result-card__meta\"><p class=\"profile-result-card__location\"></p></div></div></li><li class=\"result-card profile-result-card\"><a class=\"result-card__full-card-link\" data-tracking-control-name=\"public_profile_browsemap_profile-result-card_result-card_full-click\" data-tracking-will-navigate=\"\" href=\"https://www.linkedin.com/in/prasansha-sureka-550aa0178?trk=public_profile_browsemap_profile-result-card_result-card_full-click\"><span class=\"screen-reader-text\">Prasansha Sureka</span></a><img alt=\"Prasansha Sureka\" aria-hidden=\"true\" class=\"artdeco-entity-image profile-result-card artdeco-entity-image--profile profile-result-card--profile artdeco-entity-image--circle-4 profile-result-card--circle-4 result-card__image lazy-loaded\" data-ghost-classes=\"artdeco-entity-image--ghost profile-result-card--ghost artdeco-entity-image--ghost-profile profile-result-card--ghost-profile\" data-ghost-url=\"https://static-exp1.licdn.com/sc/h/djzv59yelk5urv2ujlazfyvrk\" src=\"https://media-exp1.licdn.com/dms/image/C5103AQFTuBO7q_Q--Q/profile-displayphoto-shrink_100_100/0?e=1598486400&amp;v=beta&amp;t=ls7mBWO7wKtWQZP98fUdD1cU-C7g7qPARHk2djSzO0Y\"/><div class=\"result-card__contents profile-result-card__contents\"><h3 class=\"result-card__title profile-result-card__title\">Prasansha Sureka</h3><h4 class=\"result-card__subtitle profile-result-card__subtitle\">Student at Amity University kolkata</h4><div class=\"result-card__meta profile-result-card__meta\"><p class=\"profile-result-card__location\"></p></div></div></li><li class=\"result-card profile-result-card\"><a class=\"result-card__full-card-link\" data-tracking-control-name=\"public_profile_browsemap_profile-result-card_result-card_full-click\" data-tracking-will-navigate=\"\" href=\"https://www.linkedin.com/in/anuja-agarwal?trk=public_profile_browsemap_profile-result-card_result-card_full-click\"><span class=\"screen-reader-text\">Anuja Agarwal</span></a><img alt=\"Anuja Agarwal\" aria-hidden=\"true\" class=\"artdeco-entity-image profile-result-card artdeco-entity-image--profile profile-result-card--profile artdeco-entity-image--circle-4 profile-result-card--circle-4 result-card__image lazy-loaded\" data-ghost-classes=\"artdeco-entity-image--ghost profile-result-card--ghost artdeco-entity-image--ghost-profile profile-result-card--ghost-profile\" data-ghost-url=\"https://static-exp1.licdn.com/sc/h/djzv59yelk5urv2ujlazfyvrk\" src=\"https://media-exp1.licdn.com/dms/image/C5603AQGuOs8xKO-ocw/profile-displayphoto-shrink_100_100/0?e=1598486400&amp;v=beta&amp;t=yU-fyRg8OTGSBITZNSKKsWWOYipt8EkMZYSzy_OrH-8\"/><div class=\"result-card__contents profile-result-card__contents\"><h3 class=\"result-card__title profile-result-card__title\">Anuja Agarwal</h3><h4 class=\"result-card__subtitle profile-result-card__subtitle\">Looking for Summer Internship in Data Science Domain. Curious Learner and a Data Science Enthusiast. </h4><div class=\"result-card__meta profile-result-card__meta\"><p class=\"profile-result-card__location\"></p></div></div></li><li class=\"result-card profile-result-card\"><a class=\"result-card__full-card-link\" data-tracking-control-name=\"public_profile_browsemap_profile-result-card_result-card_full-click\" data-tracking-will-navigate=\"\" href=\"https://www.linkedin.com/in/kaushal-agarwal-15b086183?trk=public_profile_browsemap_profile-result-card_result-card_full-click\"><span class=\"screen-reader-text\">Kaushal Agarwal</span></a><img alt=\"Kaushal Agarwal\" aria-hidden=\"true\" class=\"artdeco-entity-image profile-result-card artdeco-entity-image--profile profile-result-card--profile artdeco-entity-image--circle-4 profile-result-card--circle-4 result-card__image lazy-loaded\" data-ghost-classes=\"artdeco-entity-image--ghost profile-result-card--ghost artdeco-entity-image--ghost-profile profile-result-card--ghost-profile\" data-ghost-url=\"https://static-exp1.licdn.com/sc/h/djzv59yelk5urv2ujlazfyvrk\" src=\"https://media-exp1.licdn.com/dms/image/C5603AQF_vNpDo8qBDg/profile-displayphoto-shrink_100_100/0?e=1598486400&amp;v=beta&amp;t=oWMUkjn-aw14yif9P_Q0fEVBHTBHYCZu3kV2Qut3deo\"/><div class=\"result-card__contents profile-result-card__contents\"><h3 class=\"result-card__title profile-result-card__title\">Kaushal Agarwal</h3><h4 class=\"result-card__subtitle profile-result-card__subtitle\">Enthusiast about Machine learning | Data Science Intern | Social Worker | Entrepreneur |Pythonista | Engineer by 2021 </h4><div class=\"result-card__meta profile-result-card__meta\"><p class=\"profile-result-card__location\"></p></div></div></li><li class=\"result-card profile-result-card\"><a class=\"result-card__full-card-link\" data-tracking-control-name=\"public_profile_browsemap_profile-result-card_result-card_full-click\" data-tracking-will-navigate=\"\" href=\"https://www.linkedin.com/in/surabhi-basak?trk=public_profile_browsemap_profile-result-card_result-card_full-click\"><span class=\"screen-reader-text\">Surabhi Basak</span></a><img alt=\"Surabhi Basak\" aria-hidden=\"true\" class=\"artdeco-entity-image profile-result-card artdeco-entity-image--profile profile-result-card--profile artdeco-entity-image--circle-4 profile-result-card--circle-4 result-card__image lazy-loaded\" data-ghost-classes=\"artdeco-entity-image--ghost profile-result-card--ghost artdeco-entity-image--ghost-profile profile-result-card--ghost-profile\" data-ghost-url=\"https://static-exp1.licdn.com/sc/h/djzv59yelk5urv2ujlazfyvrk\" src=\"https://media-exp1.licdn.com/dms/image/C5103AQEmQwXm23Tm_A/profile-displayphoto-shrink_100_100/0?e=1598486400&amp;v=beta&amp;t=qGvFE0wru6i2sNQbbwxRc0E6HeQTes_NKE5Vy51QoLg\"/><div class=\"result-card__contents profile-result-card__contents\"><h3 class=\"result-card__title profile-result-card__title\">Surabhi Basak</h3><h4 class=\"result-card__subtitle profile-result-card__subtitle\">Web Developer Intern at Sikharthy Infotech Pvt. Ltd. || Data Science Intern at Mywbut || B.Tech in CSE|| Graduating 2021</h4><div class=\"result-card__meta profile-result-card__meta\"><p class=\"profile-result-card__location\"></p></div></div></li><li class=\"result-card profile-result-card\"><a class=\"result-card__full-card-link\" data-tracking-control-name=\"public_profile_browsemap_profile-result-card_result-card_full-click\" data-tracking-will-navigate=\"\" href=\"https://www.linkedin.com/in/mushrequa-nawaz-a3b1881a0?trk=public_profile_browsemap_profile-result-card_result-card_full-click\"><span class=\"screen-reader-text\">Mushrequa Nawaz</span></a><img alt=\"Mushrequa Nawaz\" aria-hidden=\"true\" class=\"artdeco-entity-image profile-result-card artdeco-entity-image--profile profile-result-card--profile artdeco-entity-image--circle-4 profile-result-card--circle-4 result-card__image lazy-loaded\" data-ghost-classes=\"artdeco-entity-image--ghost profile-result-card--ghost artdeco-entity-image--ghost-profile profile-result-card--ghost-profile\" data-ghost-url=\"https://static-exp1.licdn.com/sc/h/djzv59yelk5urv2ujlazfyvrk\" src=\"https://media-exp1.licdn.com/dms/image/C5103AQHc22Tdq2BAUA/profile-displayphoto-shrink_100_100/0?e=1598486400&amp;v=beta&amp;t=jaSczzQGudPiPaFpTZIApYGYuYt7yLDUsCsGaIJGqkw\"/><div class=\"result-card__contents profile-result-card__contents\"><h3 class=\"result-card__title profile-result-card__title\">Mushrequa Nawaz</h3><h4 class=\"result-card__subtitle profile-result-card__subtitle\">Keenly interested in Machine Learning and Data Analysis</h4><div class=\"result-card__meta profile-result-card__meta\"><p class=\"profile-result-card__location\"></p></div></div></li><li class=\"result-card profile-result-card\" data-impression-id=\"public_profile_browsemap-10\"><a class=\"result-card__full-card-link\" data-tracking-control-name=\"public_profile_browsemap_profile-result-card_result-card_full-click\" data-tracking-will-navigate=\"\" href=\"https://www.linkedin.com/in/gazal-garg-073a2719b?trk=public_profile_browsemap_profile-result-card_result-card_full-click\"><span class=\"screen-reader-text\">Gazal Garg</span></a><img alt=\"Gazal Garg\" aria-hidden=\"true\" class=\"artdeco-entity-image profile-result-card artdeco-entity-image--profile profile-result-card--profile artdeco-entity-image--circle-4 profile-result-card--circle-4 result-card__image lazy-loaded\" data-ghost-classes=\"artdeco-entity-image--ghost profile-result-card--ghost artdeco-entity-image--ghost-profile profile-result-card--ghost-profile\" data-ghost-url=\"https://static-exp1.licdn.com/sc/h/djzv59yelk5urv2ujlazfyvrk\" src=\"https://media-exp1.licdn.com/dms/image/C5103AQGLU_iGbEPIQA/profile-displayphoto-shrink_100_100/0?e=1598486400&amp;v=beta&amp;t=8hZOL9yGPWUNiN8TjUTiQbdxJdRpt6EM0tL7ptYyNg8\"/><div class=\"result-card__contents profile-result-card__contents\"><h3 class=\"result-card__title profile-result-card__title\">Gazal Garg</h3><h4 class=\"result-card__subtitle profile-result-card__subtitle\">Aspiring Machine Learning &amp; Data Analyst</h4><div class=\"result-card__meta profile-result-card__meta\"><p class=\"profile-result-card__location\"></p></div></div></li><li class=\"result-card profile-result-card\" data-impression-id=\"public_profile_browsemap-11\"><a class=\"result-card__full-card-link\" data-tracking-control-name=\"public_profile_browsemap_profile-result-card_result-card_full-click\" data-tracking-will-navigate=\"\" href=\"https://www.linkedin.com/in/ritwik-ghosh-01ba01152?trk=public_profile_browsemap_profile-result-card_result-card_full-click\"><span class=\"screen-reader-text\">Ritwik Ghosh</span></a><img alt=\"Ritwik Ghosh\" aria-hidden=\"true\" class=\"artdeco-entity-image profile-result-card artdeco-entity-image--profile profile-result-card--profile artdeco-entity-image--circle-4 profile-result-card--circle-4 result-card__image lazy-loaded\" data-ghost-classes=\"artdeco-entity-image--ghost profile-result-card--ghost artdeco-entity-image--ghost-profile profile-result-card--ghost-profile\" data-ghost-url=\"https://static-exp1.licdn.com/sc/h/djzv59yelk5urv2ujlazfyvrk\" src=\"https://media-exp1.licdn.com/dms/image/C5103AQFT-7c834GnWQ/profile-displayphoto-shrink_100_100/0?e=1598486400&amp;v=beta&amp;t=R4lOD1g8ZNsnQx054_4WcBHq2R9P6XS7ckC5QMLa6ic\"/><div class=\"result-card__contents profile-result-card__contents\"><h3 class=\"result-card__title profile-result-card__title\">Ritwik Ghosh</h3><h4 class=\"result-card__subtitle profile-result-card__subtitle\">Flutter Developer at DUIT</h4><div class=\"result-card__meta profile-result-card__meta\"><p class=\"profile-result-card__location\"></p></div></div></li><li class=\"result-card profile-result-card\" data-impression-id=\"public_profile_browsemap-12\"><a class=\"result-card__full-card-link\" data-tracking-control-name=\"public_profile_browsemap_profile-result-card_result-card_full-click\" data-tracking-will-navigate=\"\" href=\"https://www.linkedin.com/in/anamika-banerjee-744965167?trk=public_profile_browsemap_profile-result-card_result-card_full-click\"><span class=\"screen-reader-text\">Anamika Banerjee</span></a><img alt=\"Anamika Banerjee\" aria-hidden=\"true\" class=\"artdeco-entity-image profile-result-card artdeco-entity-image--profile profile-result-card--profile artdeco-entity-image--circle-4 profile-result-card--circle-4 result-card__image lazy-loaded\" data-ghost-classes=\"artdeco-entity-image--ghost profile-result-card--ghost artdeco-entity-image--ghost-profile profile-result-card--ghost-profile\" data-ghost-url=\"https://static-exp1.licdn.com/sc/h/djzv59yelk5urv2ujlazfyvrk\" src=\"https://media-exp1.licdn.com/dms/image/C5103AQHXUP4ohmhUIA/profile-displayphoto-shrink_100_100/0?e=1598486400&amp;v=beta&amp;t=4XRd3YyBZEA5Hjvi2rImS7A0XbwDd2xFm1e--9SD4cM\"/><div class=\"result-card__contents profile-result-card__contents\"><h3 class=\"result-card__title profile-result-card__title\">Anamika Banerjee</h3><h4 class=\"result-card__subtitle profile-result-card__subtitle\">Amity University Kolkata</h4><div class=\"result-card__meta profile-result-card__meta\"><p class=\"profile-result-card__location\"></p></div></div></li><li class=\"result-card profile-result-card\" data-impression-id=\"public_profile_browsemap-13\"><a class=\"result-card__full-card-link\" data-tracking-control-name=\"public_profile_browsemap_profile-result-card_result-card_full-click\" data-tracking-will-navigate=\"\" href=\"https://www.linkedin.com/in/subhamdasgupta?trk=public_profile_browsemap_profile-result-card_result-card_full-click\"><span class=\"screen-reader-text\">Subham Dasgupta</span></a><img alt=\"Subham Dasgupta\" aria-hidden=\"true\" class=\"artdeco-entity-image profile-result-card artdeco-entity-image--profile profile-result-card--profile artdeco-entity-image--circle-4 profile-result-card--circle-4 result-card__image lazy-loaded\" data-ghost-classes=\"artdeco-entity-image--ghost profile-result-card--ghost artdeco-entity-image--ghost-profile profile-result-card--ghost-profile\" data-ghost-url=\"https://static-exp1.licdn.com/sc/h/djzv59yelk5urv2ujlazfyvrk\" src=\"https://media-exp1.licdn.com/dms/image/C5603AQGSNMr0uFWXtw/profile-displayphoto-shrink_100_100/0?e=1598486400&amp;v=beta&amp;t=aUbUFaxytq8a4C5LrpcoC02b_8GVD0q-3mlPuqZIM7E\"/><div class=\"result-card__contents profile-result-card__contents\"><h3 class=\"result-card__title profile-result-card__title\">Subham Dasgupta</h3><h4 class=\"result-card__subtitle profile-result-card__subtitle\">Research Intern at YapApp India Pvt Ltd</h4><div class=\"result-card__meta profile-result-card__meta\"><p class=\"profile-result-card__location\"></p></div></div></li><li class=\"result-card profile-result-card\" data-impression-id=\"public_profile_browsemap-14\"><a class=\"result-card__full-card-link\" data-tracking-control-name=\"public_profile_browsemap_profile-result-card_result-card_full-click\" data-tracking-will-navigate=\"\" href=\"https://www.linkedin.com/in/apurwa-arya-2b9988157?trk=public_profile_browsemap_profile-result-card_result-card_full-click\"><span class=\"screen-reader-text\">Apurwa Arya</span></a><img alt=\"Apurwa Arya\" aria-hidden=\"true\" class=\"artdeco-entity-image profile-result-card artdeco-entity-image--profile profile-result-card--profile artdeco-entity-image--circle-4 profile-result-card--circle-4 result-card__image lazy-loaded\" data-ghost-classes=\"artdeco-entity-image--ghost profile-result-card--ghost artdeco-entity-image--ghost-profile profile-result-card--ghost-profile\" data-ghost-url=\"https://static-exp1.licdn.com/sc/h/djzv59yelk5urv2ujlazfyvrk\" src=\"https://media-exp1.licdn.com/dms/image/C5103AQEwh8zOHvq5uQ/profile-displayphoto-shrink_100_100/0?e=1598486400&amp;v=beta&amp;t=-2gW70Q2Dzg76_uPO0JXGsAU0ZnlE1OPNAJoJlQRVFE\"/><div class=\"result-card__contents profile-result-card__contents\"><h3 class=\"result-card__title profile-result-card__title\">Apurwa Arya</h3><h4 class=\"result-card__subtitle profile-result-card__subtitle\">Technical Content Strategist at Mywbut.com||\n",
       "    Data Science and Machine Learning Enthusiast</h4><div class=\"result-card__meta profile-result-card__meta\"><p class=\"profile-result-card__location\"></p></div></div></li><li class=\"result-card profile-result-card\" data-impression-id=\"public_profile_browsemap-15\"><a class=\"result-card__full-card-link\" data-tracking-control-name=\"public_profile_browsemap_profile-result-card_result-card_full-click\" data-tracking-will-navigate=\"\" href=\"https://www.linkedin.com/in/sharika-anjum-mondal-8b80a3188?trk=public_profile_browsemap_profile-result-card_result-card_full-click\"><span class=\"screen-reader-text\">Sharika Anjum Mondal</span></a><img alt=\"Sharika Anjum Mondal\" aria-hidden=\"true\" class=\"artdeco-entity-image profile-result-card artdeco-entity-image--profile profile-result-card--profile artdeco-entity-image--circle-4 profile-result-card--circle-4 result-card__image lazy-loaded\" data-ghost-classes=\"artdeco-entity-image--ghost profile-result-card--ghost artdeco-entity-image--ghost-profile profile-result-card--ghost-profile\" data-ghost-url=\"https://static-exp1.licdn.com/sc/h/djzv59yelk5urv2ujlazfyvrk\" src=\"https://media-exp1.licdn.com/dms/image/C5103AQGj4SwB63YM2g/profile-displayphoto-shrink_100_100/0?e=1598486400&amp;v=beta&amp;t=8MlBHVC9bKmI_G-zMp7MGQ5k2rwZ6Amp0cFQg81a1fk\"/><div class=\"result-card__contents profile-result-card__contents\"><h3 class=\"result-card__title profile-result-card__title\">Sharika Anjum Mondal</h3><h4 class=\"result-card__subtitle profile-result-card__subtitle\">KPMG Data Analytics Virtual Internship at KPMG</h4><div class=\"result-card__meta profile-result-card__meta\"><p class=\"profile-result-card__location\"></p></div></div></li><li class=\"result-card profile-result-card\" data-impression-id=\"public_profile_browsemap-16\"><a class=\"result-card__full-card-link\" data-tracking-control-name=\"public_profile_browsemap_profile-result-card_result-card_full-click\" data-tracking-will-navigate=\"\" href=\"https://www.linkedin.com/in/bhavna-kumari-4b671a182?trk=public_profile_browsemap_profile-result-card_result-card_full-click\"><span class=\"screen-reader-text\">Bhavna Kumari</span></a><img alt=\"Bhavna Kumari\" aria-hidden=\"true\" class=\"artdeco-entity-image profile-result-card artdeco-entity-image--profile profile-result-card--profile artdeco-entity-image--circle-4 profile-result-card--circle-4 result-card__image lazy-loaded\" data-ghost-classes=\"artdeco-entity-image--ghost profile-result-card--ghost artdeco-entity-image--ghost-profile profile-result-card--ghost-profile\" data-ghost-url=\"https://static-exp1.licdn.com/sc/h/djzv59yelk5urv2ujlazfyvrk\" src=\"https://media-exp1.licdn.com/dms/image/C5603AQGgG_2-QPW29A/profile-displayphoto-shrink_100_100/0?e=1598486400&amp;v=beta&amp;t=0sD7Hh1sjnOI_CXihMaIdAAIg_ADA0XaZnhPG0Wwb1s\"/><div class=\"result-card__contents profile-result-card__contents\"><h3 class=\"result-card__title profile-result-card__title\">Bhavna Kumari</h3><h4 class=\"result-card__subtitle profile-result-card__subtitle\">Deloitte Technology Consulting Virtual Intern'20</h4><div class=\"result-card__meta profile-result-card__meta\"><p class=\"profile-result-card__location\"></p></div></div></li><li class=\"result-card profile-result-card\" data-impression-id=\"public_profile_browsemap-17\"><a class=\"result-card__full-card-link\" data-tracking-control-name=\"public_profile_browsemap_profile-result-card_result-card_full-click\" data-tracking-will-navigate=\"\" href=\"https://www.linkedin.com/in/souhardyachatterjee?trk=public_profile_browsemap_profile-result-card_result-card_full-click\"><span class=\"screen-reader-text\">Souhardya Chatterjee</span></a><img alt=\"Souhardya Chatterjee\" aria-hidden=\"true\" class=\"artdeco-entity-image profile-result-card artdeco-entity-image--profile profile-result-card--profile artdeco-entity-image--circle-4 profile-result-card--circle-4 result-card__image lazy-loaded\" data-ghost-classes=\"artdeco-entity-image--ghost profile-result-card--ghost artdeco-entity-image--ghost-profile profile-result-card--ghost-profile\" data-ghost-url=\"https://static-exp1.licdn.com/sc/h/djzv59yelk5urv2ujlazfyvrk\" src=\"https://media-exp1.licdn.com/dms/image/C5603AQEx2KFzkqBwCQ/profile-displayphoto-shrink_100_100/0?e=1598486400&amp;v=beta&amp;t=UoU84u589g8GzivnXEJx6opa7MtntIH1WfSZMY1_4jk\"/><div class=\"result-card__contents profile-result-card__contents\"><h3 class=\"result-card__title profile-result-card__title\">Souhardya Chatterjee</h3><h4 class=\"result-card__subtitle profile-result-card__subtitle\">Looking for opportunities in market research, data analyst and marketing roles </h4><div class=\"result-card__meta profile-result-card__meta\"><p class=\"profile-result-card__location\"></p></div></div></li><li class=\"result-card profile-result-card\" data-impression-id=\"public_profile_browsemap-18\"><a class=\"result-card__full-card-link\" data-tracking-control-name=\"public_profile_browsemap_profile-result-card_result-card_full-click\" data-tracking-will-navigate=\"\" href=\"https://www.linkedin.com/in/bikram-ruj-840aa1180?trk=public_profile_browsemap_profile-result-card_result-card_full-click\"><span class=\"screen-reader-text\">Bikram Ruj</span></a><img alt=\"Bikram Ruj\" aria-hidden=\"true\" class=\"artdeco-entity-image profile-result-card artdeco-entity-image--profile profile-result-card--profile artdeco-entity-image--circle-4 profile-result-card--circle-4 result-card__image lazy-loaded\" data-ghost-classes=\"artdeco-entity-image--ghost profile-result-card--ghost artdeco-entity-image--ghost-profile profile-result-card--ghost-profile\" data-ghost-url=\"https://static-exp1.licdn.com/sc/h/djzv59yelk5urv2ujlazfyvrk\" src=\"https://media-exp1.licdn.com/dms/image/C5603AQF1QwcFPMfSqQ/profile-displayphoto-shrink_100_100/0?e=1598486400&amp;v=beta&amp;t=mJuGKXB24iv3pnDF0TBJLXeZMuly8I3SZJ2NbUpYJUQ\"/><div class=\"result-card__contents profile-result-card__contents\"><h3 class=\"result-card__title profile-result-card__title\">Bikram Ruj</h3><h4 class=\"result-card__subtitle profile-result-card__subtitle\">. </h4><div class=\"result-card__meta profile-result-card__meta\"><p class=\"profile-result-card__location\"></p></div></div></li><li class=\"result-card profile-result-card\" data-impression-id=\"public_profile_browsemap-19\"><a class=\"result-card__full-card-link\" data-tracking-control-name=\"public_profile_browsemap_profile-result-card_result-card_full-click\" data-tracking-will-navigate=\"\" href=\"https://www.linkedin.com/in/ritik-v-100516a5?trk=public_profile_browsemap_profile-result-card_result-card_full-click\"><span class=\"screen-reader-text\">Ritik V.</span></a><img alt=\"Ritik V.\" aria-hidden=\"true\" class=\"artdeco-entity-image profile-result-card artdeco-entity-image--profile profile-result-card--profile artdeco-entity-image--circle-4 profile-result-card--circle-4 result-card__image lazy-loaded\" data-ghost-classes=\"artdeco-entity-image--ghost profile-result-card--ghost artdeco-entity-image--ghost-profile profile-result-card--ghost-profile\" data-ghost-url=\"https://static-exp1.licdn.com/sc/h/djzv59yelk5urv2ujlazfyvrk\" src=\"https://media-exp1.licdn.com/dms/image/C5603AQE3sJPOwySKcw/profile-displayphoto-shrink_100_100/0?e=1598486400&amp;v=beta&amp;t=LVpJwNa8T4YnaM6U2FJxJZCwds6X9VE7s2oHjMZmWqM\"/><div class=\"result-card__contents profile-result-card__contents\"><h3 class=\"result-card__title profile-result-card__title\">Ritik V.</h3><h4 class=\"result-card__subtitle profile-result-card__subtitle\">Web Developer and Aspiring Data Scientist</h4><div class=\"result-card__meta profile-result-card__meta\"><p class=\"profile-result-card__location\"></p></div></div></li></ul><button aria-expanded=\"false\" class=\"show-more-less__more-button show-more-less__button\" data-tracking-control-name=\"public_profile_browsemap_show_more\">Show more profiles<icon aria-hidden=\"true\" class=\"show-more-less__button--chevron lazy-loaded\"><svg class=\"lazy-loaded\" focusable=\"false\" height=\"16px\" id=\"chevron-up-icon\" preserveaspectratio=\"xMinYMin meet\" version=\"1.1\" viewbox=\"0 0 16 16\" width=\"16px\" xmlns=\"http://www.w3.org/2000/svg\" xmlns:xlink=\"http://www.w3.org/1999/xlink\">\n",
       " <g class=\"small-icon\" style=\"fill: currentColor;\">\n",
       " <path d=\"M8,9l5.93-4L15,6.54l-6.15,4.2a1.5,1.5,0,0,1-1.69,0L1,6.54,2.07,5Z\"></path>\n",
       " </g>\n",
       " </svg></icon></button><button aria-expanded=\"false\" class=\"show-more-less__less-button show-more-less__button show-more-less__button--hide\" data-tracking-control-name=\"public_profile_browsemap_show_less\">Show fewer profiles<icon aria-hidden=\"true\" class=\"show-more-less__button--chevron lazy-loaded\"><svg class=\"lazy-loaded\" focusable=\"false\" height=\"16px\" id=\"chevron-up-icon\" preserveaspectratio=\"xMinYMin meet\" version=\"1.1\" viewbox=\"0 0 16 16\" width=\"16px\" xmlns=\"http://www.w3.org/2000/svg\" xmlns:xlink=\"http://www.w3.org/1999/xlink\">\n",
       " <g class=\"small-icon\" style=\"fill: currentColor;\">\n",
       " <path d=\"M8,7l-5.9,4L1,9.5l6.2-4.2c0.5-0.3,1.2-0.3,1.7,0L15,9.5L13.9,11L8,7z\"></path>\n",
       " </g>\n",
       " </svg></icon></button></div></section>]"
      ]
     },
     "execution_count": 34,
     "metadata": {},
     "output_type": "execute_result"
    }
   ],
   "source": [
    "x"
   ]
  },
  {
   "cell_type": "code",
   "execution_count": 40,
   "metadata": {},
   "outputs": [
    {
     "name": "stdout",
     "output_type": "stream",
     "text": [
      "https://www.linkedin.com/in/ritashri-mishra-aa114814b\n",
      "https://www.linkedin.com/in/ujjaineede\n",
      "https://www.linkedin.com/in/sudeshna-pahari-44592416\n",
      "https://www.linkedin.com/in/arpita-halder-8718b413b\n",
      "https://www.linkedin.com/in/priscila-tamang-ghising-a703b1174\n",
      "https://www.linkedin.com/in/prasansha-sureka-550aa0178\n",
      "https://www.linkedin.com/in/anuja-agarwal\n",
      "https://www.linkedin.com/in/kaushal-agarwal-15b086183\n",
      "https://www.linkedin.com/in/surabhi-basak\n",
      "https://www.linkedin.com/in/mushrequa-nawaz-a3b1881a0\n",
      "https://www.linkedin.com/in/gazal-garg-073a2719b\n",
      "https://www.linkedin.com/in/ritwik-ghosh-01ba01152\n",
      "https://www.linkedin.com/in/anamika-banerjee-744965167\n",
      "https://www.linkedin.com/in/subhamdasgupta\n",
      "https://www.linkedin.com/in/apurwa-arya-2b9988157\n",
      "https://www.linkedin.com/in/sharika-anjum-mondal-8b80a3188\n",
      "https://www.linkedin.com/in/bhavna-kumari-4b671a182\n",
      "https://www.linkedin.com/in/souhardyachatterjee\n",
      "https://www.linkedin.com/in/bikram-ruj-840aa1180\n",
      "https://www.linkedin.com/in/ritik-v-100516a5\n"
     ]
    }
   ],
   "source": [
    "\n",
    "for i in x[0].findAll(\"a\"):\n",
    "    print(i.get(\"href\").split(\"?\")[0])"
   ]
  },
  {
   "cell_type": "code",
   "execution_count": null,
   "metadata": {},
   "outputs": [],
   "source": []
  },
  {
   "cell_type": "code",
   "execution_count": null,
   "metadata": {},
   "outputs": [],
   "source": []
  },
  {
   "cell_type": "code",
   "execution_count": null,
   "metadata": {},
   "outputs": [],
   "source": []
  }
 ],
 "metadata": {
  "kernelspec": {
   "display_name": "Python 3",
   "language": "python",
   "name": "python3"
  },
  "language_info": {
   "codemirror_mode": {
    "name": "ipython",
    "version": 3
   },
   "file_extension": ".py",
   "mimetype": "text/x-python",
   "name": "python",
   "nbconvert_exporter": "python",
   "pygments_lexer": "ipython3",
   "version": "3.6.9"
  }
 },
 "nbformat": 4,
 "nbformat_minor": 2
}
