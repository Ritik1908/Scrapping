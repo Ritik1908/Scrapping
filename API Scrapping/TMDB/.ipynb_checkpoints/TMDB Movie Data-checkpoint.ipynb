{
 "cells": [
  {
   "cell_type": "code",
   "execution_count": 1,
   "metadata": {},
   "outputs": [],
   "source": [
    "import pandas as pd\n",
    "import numpy as np\n",
    "import requests\n",
    "import json"
   ]
  },
  {
   "cell_type": "code",
   "execution_count": 2,
   "metadata": {},
   "outputs": [],
   "source": [
    "popularity = []\n",
    "voteCount = []\n",
    "title = []\n",
    "voteAverage = []\n",
    "overview = []\n",
    "releaseDate = []"
   ]
  },
  {
   "cell_type": "code",
   "execution_count": 3,
   "metadata": {},
   "outputs": [],
   "source": [
    "# Requesting Movies Set and Converting to JSON Object\n",
    "data = requests.get(\"https://api.themoviedb.org/3/movie/popular?api_key=8265bd1679663a7ea12ac168da84d2e8&language=en-US&page=1\")\n",
    "data = data.json()"
   ]
  },
  {
   "cell_type": "code",
   "execution_count": 4,
   "metadata": {},
   "outputs": [
    {
     "data": {
      "text/plain": [
       "500"
      ]
     },
     "execution_count": 4,
     "metadata": {},
     "output_type": "execute_result"
    }
   ],
   "source": [
    "# To Find The Total Number Of Pages\n",
    "totalPages = data['total_pages']\n",
    "totalPages"
   ]
  },
  {
   "cell_type": "code",
   "execution_count": 5,
   "metadata": {},
   "outputs": [],
   "source": [
    "# Making API Request For Each Page\n",
    "for i in range(totalPages):\n",
    "    url = \"https://api.themoviedb.org/3/movie/popular?api_key=8265bd1679663a7ea12ac168da84d2e8&language=en-US&page=\"+str(i+1)\n",
    "    data = requests.get(url)\n",
    "    data = data.json()\n",
    "    for j in data['results']:\n",
    "        popularity.append(j['popularity'])\n",
    "        voteCount.append(j['vote_count'])\n",
    "        title.append(j['title'])\n",
    "        voteAverage.append(j['vote_average'])\n",
    "        overview.append(j['overview'])\n",
    "        try:\n",
    "            x = j['release_date']\n",
    "            releaseDate.append(x)\n",
    "        except:\n",
    "             releaseDate.append(np.nan);"
   ]
  },
  {
   "cell_type": "code",
   "execution_count": 6,
   "metadata": {},
   "outputs": [],
   "source": [
    "dataF = pd.DataFrame(zip(\n",
    "            popularity,\n",
    "            voteCount,\n",
    "            title,\n",
    "            voteAverage,\n",
    "            overview,\n",
    "            releaseDate), \n",
    "            columns = ['Popularity',\n",
    "                       'Vote Count',\n",
    "                       'Titile',\n",
    "                       'Vote Average',\n",
    "                       'Overview',\n",
    "                       'Release Date'])"
   ]
  },
  {
   "cell_type": "code",
   "execution_count": 10,
   "metadata": {},
   "outputs": [
    {
     "data": {
      "text/html": [
       "<div>\n",
       "<style scoped>\n",
       "    .dataframe tbody tr th:only-of-type {\n",
       "        vertical-align: middle;\n",
       "    }\n",
       "\n",
       "    .dataframe tbody tr th {\n",
       "        vertical-align: top;\n",
       "    }\n",
       "\n",
       "    .dataframe thead th {\n",
       "        text-align: right;\n",
       "    }\n",
       "</style>\n",
       "<table border=\"1\" class=\"dataframe\">\n",
       "  <thead>\n",
       "    <tr style=\"text-align: right;\">\n",
       "      <th></th>\n",
       "      <th>Popularity</th>\n",
       "      <th>Vote Count</th>\n",
       "      <th>Titile</th>\n",
       "      <th>Vote Average</th>\n",
       "      <th>Overview</th>\n",
       "      <th>Release Date</th>\n",
       "    </tr>\n",
       "  </thead>\n",
       "  <tbody>\n",
       "    <tr>\n",
       "      <th>0</th>\n",
       "      <td>453.361</td>\n",
       "      <td>2875</td>\n",
       "      <td>Ad Astra</td>\n",
       "      <td>5.9</td>\n",
       "      <td>The near future, a time when both hope and har...</td>\n",
       "      <td>2019-09-17</td>\n",
       "    </tr>\n",
       "    <tr>\n",
       "      <th>1</th>\n",
       "      <td>315.622</td>\n",
       "      <td>2653</td>\n",
       "      <td>Bad Boys for Life</td>\n",
       "      <td>7.1</td>\n",
       "      <td>Marcus and Mike are forced to confront new thr...</td>\n",
       "      <td>2020-01-15</td>\n",
       "    </tr>\n",
       "    <tr>\n",
       "      <th>2</th>\n",
       "      <td>241.513</td>\n",
       "      <td>1419</td>\n",
       "      <td>Bloodshot</td>\n",
       "      <td>7.2</td>\n",
       "      <td>After he and his wife are murdered, marine Ray...</td>\n",
       "      <td>2020-03-05</td>\n",
       "    </tr>\n",
       "    <tr>\n",
       "      <th>3</th>\n",
       "      <td>209.518</td>\n",
       "      <td>2717</td>\n",
       "      <td>Birds of Prey (and the Fantabulous Emancipatio...</td>\n",
       "      <td>7.1</td>\n",
       "      <td>Harley Quinn joins forces with a singer, an as...</td>\n",
       "      <td>2020-02-05</td>\n",
       "    </tr>\n",
       "    <tr>\n",
       "      <th>4</th>\n",
       "      <td>188.203</td>\n",
       "      <td>3834</td>\n",
       "      <td>Star Wars: The Rise of Skywalker</td>\n",
       "      <td>6.5</td>\n",
       "      <td>The surviving Resistance faces the First Order...</td>\n",
       "      <td>2019-12-18</td>\n",
       "    </tr>\n",
       "  </tbody>\n",
       "</table>\n",
       "</div>"
      ],
      "text/plain": [
       "   Popularity  Vote Count                                             Titile  \\\n",
       "0     453.361        2875                                           Ad Astra   \n",
       "1     315.622        2653                                  Bad Boys for Life   \n",
       "2     241.513        1419                                          Bloodshot   \n",
       "3     209.518        2717  Birds of Prey (and the Fantabulous Emancipatio...   \n",
       "4     188.203        3834                   Star Wars: The Rise of Skywalker   \n",
       "\n",
       "   Vote Average                                           Overview  \\\n",
       "0           5.9  The near future, a time when both hope and har...   \n",
       "1           7.1  Marcus and Mike are forced to confront new thr...   \n",
       "2           7.2  After he and his wife are murdered, marine Ray...   \n",
       "3           7.1  Harley Quinn joins forces with a singer, an as...   \n",
       "4           6.5  The surviving Resistance faces the First Order...   \n",
       "\n",
       "  Release Date  \n",
       "0   2019-09-17  \n",
       "1   2020-01-15  \n",
       "2   2020-03-05  \n",
       "3   2020-02-05  \n",
       "4   2019-12-18  "
      ]
     },
     "execution_count": 10,
     "metadata": {},
     "output_type": "execute_result"
    }
   ],
   "source": [
    "dataF.head()"
   ]
  },
  {
   "cell_type": "code",
   "execution_count": 8,
   "metadata": {},
   "outputs": [],
   "source": [
    "dataF.to_csv(\"Top Rated Movie Database.csv\")"
   ]
  }
 ],
 "metadata": {
  "kernelspec": {
   "display_name": "Python 3",
   "language": "python",
   "name": "python3"
  },
  "language_info": {
   "codemirror_mode": {
    "name": "ipython",
    "version": 3
   },
   "file_extension": ".py",
   "mimetype": "text/x-python",
   "name": "python",
   "nbconvert_exporter": "python",
   "pygments_lexer": "ipython3",
   "version": "3.6.9"
  }
 },
 "nbformat": 4,
 "nbformat_minor": 2
}
